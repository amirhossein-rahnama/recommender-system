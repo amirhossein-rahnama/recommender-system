{
 "cells": [
  {
   "cell_type": "code",
   "execution_count": 3,
   "metadata": {},
   "outputs": [],
   "source": [
    "import requests\n",
    "import pandas as pd\n",
    "import time\n"
   ]
  },
  {
   "cell_type": "code",
   "execution_count": 2,
   "metadata": {},
   "outputs": [
    {
     "name": "stdout",
     "output_type": "stream",
     "text": [
      "listeners: 687135\n",
      "playcount: 3809927\n",
      "pop\n",
      "70s\n",
      "abba\n",
      "Disco\n",
      "swedish\n"
     ]
    }
   ],
   "source": [
    "api_key = \"e4c83880e243dee13523db35695addfb\"\n",
    "\n",
    "# Define the Last.fm API base URL\n",
    "base_url = 'http://ws.audioscrobbler.com/2.0/'\n",
    "\n",
    "# Define the parameters for the request\n",
    "params = {\n",
    "    'track': 'waterloo',\n",
    "    'autocorrect': 1,\n",
    "    'method': 'track.getinfo',\n",
    "    'artist': 'ABBA',  # Replace with the artist you want to search for\n",
    "    'api_key': api_key,\n",
    "    'format': 'json'  # You can also use 'xml' if you prefer XML format\n",
    "}\n",
    "\n",
    "# Make the API request\n",
    "response = requests.get(base_url, params=params)\n",
    "\n",
    "# Check if the request was successful\n",
    "if response.status_code == 200:\n",
    "    # Parse the JSON response\n",
    "    data = response.json()\n",
    "    try:\n",
    "        # Access the data you need\n",
    "        track_info = data['track']\n",
    "\n",
    "        # Print the tracks listeners and playcount\n",
    "        print(f\"listeners: {track_info['listeners']}\")\n",
    "        print(f\"playcount: {track_info['playcount']}\")\n",
    "        # print the track's tags names\n",
    "        for tag in track_info['toptags']['tag']:\n",
    "            print(tag['name'])\n",
    "    except KeyError:\n",
    "        print(\"Error: Track not found\")\n",
    "else:\n",
    "    print(f\"Error: {response.status_code}\")"
   ]
  },
  {
   "cell_type": "code",
   "execution_count": 8,
   "metadata": {},
   "outputs": [
    {
     "name": "stdout",
     "output_type": "stream",
     "text": [
      "Listeners: 688151\n",
      "Playcount: 3817801\n",
      "Tags: ['pop', '70s', 'abba', 'Disco', 'swedish']\n"
     ]
    }
   ],
   "source": [
    "def get_track_info(artist, track, api_key):\n",
    "    # Define the Last.fm API base URL\n",
    "    base_url = 'http://ws.audioscrobbler.com/2.0/'\n",
    "\n",
    "    # Define the parameters for the request\n",
    "    params = {\n",
    "        'track': track,\n",
    "        'autocorrect': 1,\n",
    "        'method': 'track.getinfo',\n",
    "        'artist': artist,\n",
    "        'api_key': api_key,\n",
    "        'format': 'json'\n",
    "    }\n",
    "\n",
    "    # Make the API request\n",
    "    response = requests.get(base_url, params=params)\n",
    "\n",
    "    # Check if the request was successful\n",
    "    if response.status_code == 200:\n",
    "        try:\n",
    "            # Parse the JSON response\n",
    "            data = response.json()\n",
    "\n",
    "            # Access the data you need\n",
    "            track_info = data['track']\n",
    "\n",
    "            # Extract the track's listeners and playcount\n",
    "            listeners = track_info['listeners']\n",
    "            playcount = track_info['playcount']\n",
    "\n",
    "            # Extract the track's tags and store them in a list\n",
    "            tags = [tag['name'] for tag in track_info['toptags']['tag']]\n",
    "\n",
    "            # Return the information as a list\n",
    "            return [listeners, playcount, tags]\n",
    "        except :\n",
    "            return [\"Error: Track not found\"]\n",
    "    else:\n",
    "        return [response.status_code]\n",
    "\n",
    "# Example usage:\n",
    "api_key = \"e4c83880e243dee13523db35695addfb\"  # Replace with your Last.fm API key\n",
    "artist = 'ABBA'  # Replace with the artist you want to search for\n",
    "track = 'Waterloo'  # Replace with the track name\n",
    "\n",
    "info = get_track_info(artist, track, api_key)\n",
    "print(\"Listeners:\", info[0])\n",
    "print(\"Playcount:\", info[1])\n",
    "print(\"Tags:\", info[2])"
   ]
  },
  {
   "cell_type": "code",
   "execution_count": 15,
   "metadata": {},
   "outputs": [
    {
     "data": {
      "text/plain": [
       "['Error: Track not found']"
      ]
     },
     "execution_count": 15,
     "metadata": {},
     "output_type": "execute_result"
    }
   ],
   "source": [
    "info = get_track_info('annie jena', 'chup chap basi', api_key)\n",
    "info"
   ]
  },
  {
   "cell_type": "code",
   "execution_count": 18,
   "metadata": {},
   "outputs": [
    {
     "name": "stdout",
     "output_type": "stream",
     "text": [
      "(139629, 27)\n",
      "(74664, 27)\n"
     ]
    }
   ],
   "source": [
    "df = pd.read_csv('Data/reduced_isrc.csv', index_col=0)\n",
    "#just take 10 random rows of df\n",
    "#df = df.sample(10)\n",
    "\n",
    "print(df.shape)\n",
    "\n",
    "# remove rows with 0 popularity\n",
    "df = df[df['popularity'] > 4]\n",
    "\n",
    "print(df.shape)"
   ]
  },
  {
   "cell_type": "code",
   "execution_count": 19,
   "metadata": {},
   "outputs": [
    {
     "name": "stdout",
     "output_type": "stream",
     "text": [
      "<class 'pandas.core.frame.DataFrame'>\n",
      "Index: 74664 entries, 13 to 139604\n",
      "Data columns (total 27 columns):\n",
      " #   Column                  Non-Null Count  Dtype  \n",
      "---  ------                  --------------  -----  \n",
      " 0   isrc                    74664 non-null  object \n",
      " 1   genres                  74664 non-null  object \n",
      " 2   name                    74664 non-null  object \n",
      " 3   artists                 74664 non-null  object \n",
      " 4   album                   74664 non-null  object \n",
      " 5   release_date            74664 non-null  object \n",
      " 6   release_date_precision  74664 non-null  object \n",
      " 7   uri                     74664 non-null  object \n",
      " 8   spotify_id              74664 non-null  object \n",
      " 9   chart_power             623 non-null    float64\n",
      " 10  popularity              74664 non-null  int64  \n",
      " 11  danceability            74664 non-null  float64\n",
      " 12  energy                  74664 non-null  float64\n",
      " 13  key                     74664 non-null  int64  \n",
      " 14  loudness                74664 non-null  float64\n",
      " 15  mode                    74664 non-null  int64  \n",
      " 16  speechiness             74664 non-null  float64\n",
      " 17  acousticness            74664 non-null  float64\n",
      " 18  instrumentalness        74664 non-null  float64\n",
      " 19  liveness                74664 non-null  float64\n",
      " 20  valence                 74664 non-null  float64\n",
      " 21  tempo                   74664 non-null  float64\n",
      " 22  duration_ms             74664 non-null  int64  \n",
      " 23  time_signature          74664 non-null  int64  \n",
      " 24  year                    74664 non-null  int64  \n",
      " 25  country_code            74664 non-null  object \n",
      " 26  country                 74664 non-null  object \n",
      "dtypes: float64(10), int64(6), object(11)\n",
      "memory usage: 15.9+ MB\n"
     ]
    }
   ],
   "source": [
    "df.info()"
   ]
  },
  {
   "cell_type": "code",
   "execution_count": 20,
   "metadata": {},
   "outputs": [],
   "source": [
    "\n",
    "\n",
    "# Add new columns for Listeners, Playcount, and Tags\n",
    "df['Listeners'] = \"\"\n",
    "df['Playcount'] = \"\"\n",
    "df['Tags'] = \"\"\n",
    "\n",
    "# Your Last.fm API key\n",
    "api_key = \"e4c83880e243dee13523db35695addfb\"  # Replace with your Last.fm API key\n",
    "\n",
    "error_cnt = 0\n",
    "\n",
    "# Iterate over the DataFrame rows and call the function for each row if listeners and playcount are empty\n",
    "for index, row in df.iterrows():\n",
    "    if row['Listeners'] != \"\" and row['Playcount'] != \"\":\n",
    "        continue\n",
    "    else:\n",
    "        artist = row['artists']\n",
    "        #only take the first artist\n",
    "        artist = artist.split(\",\")[0]\n",
    "        track = row['name']\n",
    "        \n",
    "        # Call the function to get track information\n",
    "        info = get_track_info(artist, track, api_key)\n",
    "        \n",
    "        # Check if the info list has the expected length (at least 3 elements)\n",
    "        if len(info) >= 3:\n",
    "            df.at[index, 'Listeners'] = info[0]\n",
    "            df.at[index, 'Playcount'] = info[1]\n",
    "            df.at[index, 'Tags'] = info[2]\n",
    "        elif info[0] == \"Error: Track not found\":        \n",
    "            df.at[index, 'Listeners'] = \"N/A\"\n",
    "            df.at[index, 'Playcount'] = \"N/A\"\n",
    "            df.at[index, 'Tags'] = \"N/A\"\n",
    "        else:\n",
    "            # end for loop and print error code\n",
    "            print(index, row['artists'], row['name'])\n",
    "            print(f\"Error: {info[0]}\")\n",
    "            error_cnt += 1\n",
    "            print(f\"Error Cnt: {error_cnt}\")\n",
    "            if error_cnt > 10:\n",
    "                break\n",
    "            time.sleep(1000)\n",
    "    \n",
    "    #wait for 1 seconds before making another API call\n",
    "    time.sleep(1)\n",
    "    \n",
    "df\n",
    "\n",
    "\n",
    "# Specify the file path where you want to save the CSV file\n",
    "csv_file_path = 'data.csv'  # Replace with your desired file path\n",
    "\n",
    "# Save the DataFrame to a CSV file\n",
    "df.to_csv(csv_file_path, index=False)"
   ]
  },
  {
   "cell_type": "code",
   "execution_count": 21,
   "metadata": {},
   "outputs": [
    {
     "name": "stdout",
     "output_type": "stream",
     "text": [
      "<class 'pandas.core.frame.DataFrame'>\n",
      "Index: 74664 entries, 13 to 139604\n",
      "Data columns (total 30 columns):\n",
      " #   Column                  Non-Null Count  Dtype  \n",
      "---  ------                  --------------  -----  \n",
      " 0   isrc                    74664 non-null  object \n",
      " 1   genres                  74664 non-null  object \n",
      " 2   name                    74664 non-null  object \n",
      " 3   artists                 74664 non-null  object \n",
      " 4   album                   74664 non-null  object \n",
      " 5   release_date            74664 non-null  object \n",
      " 6   release_date_precision  74664 non-null  object \n",
      " 7   uri                     74664 non-null  object \n",
      " 8   spotify_id              74664 non-null  object \n",
      " 9   chart_power             623 non-null    float64\n",
      " 10  popularity              74664 non-null  int64  \n",
      " 11  danceability            74664 non-null  float64\n",
      " 12  energy                  74664 non-null  float64\n",
      " 13  key                     74664 non-null  int64  \n",
      " 14  loudness                74664 non-null  float64\n",
      " 15  mode                    74664 non-null  int64  \n",
      " 16  speechiness             74664 non-null  float64\n",
      " 17  acousticness            74664 non-null  float64\n",
      " 18  instrumentalness        74664 non-null  float64\n",
      " 19  liveness                74664 non-null  float64\n",
      " 20  valence                 74664 non-null  float64\n",
      " 21  tempo                   74664 non-null  float64\n",
      " 22  duration_ms             74664 non-null  int64  \n",
      " 23  time_signature          74664 non-null  int64  \n",
      " 24  year                    74664 non-null  int64  \n",
      " 25  country_code            74664 non-null  object \n",
      " 26  country                 74664 non-null  object \n",
      " 27  Listeners               74664 non-null  object \n",
      " 28  Playcount               74664 non-null  object \n",
      " 29  Tags                    74664 non-null  object \n",
      "dtypes: float64(10), int64(6), object(14)\n",
      "memory usage: 19.7+ MB\n"
     ]
    }
   ],
   "source": [
    "df.info()"
   ]
  },
  {
   "cell_type": "code",
   "execution_count": 22,
   "metadata": {},
   "outputs": [
    {
     "data": {
      "text/plain": [
       "isrc                      155\n",
       "genres                    155\n",
       "name                      155\n",
       "artists                   155\n",
       "album                     155\n",
       "release_date              155\n",
       "release_date_precision    155\n",
       "uri                       155\n",
       "spotify_id                155\n",
       "chart_power                 0\n",
       "popularity                155\n",
       "danceability              155\n",
       "energy                    155\n",
       "key                       155\n",
       "loudness                  155\n",
       "mode                      155\n",
       "speechiness               155\n",
       "acousticness              155\n",
       "instrumentalness          155\n",
       "liveness                  155\n",
       "valence                   155\n",
       "tempo                     155\n",
       "duration_ms               155\n",
       "time_signature            155\n",
       "year                      155\n",
       "country_code              155\n",
       "country                   155\n",
       "Listeners                 155\n",
       "Playcount                 155\n",
       "Tags                      155\n",
       "dtype: int64"
      ]
     },
     "execution_count": 22,
     "metadata": {},
     "output_type": "execute_result"
    }
   ],
   "source": [
    "#count the number of rows with N/A in Listeners column\n",
    "df[df['Listeners'] == 'N/A'].count()"
   ]
  },
  {
   "cell_type": "code",
   "execution_count": 23,
   "metadata": {},
   "outputs": [
    {
     "data": {
      "text/plain": [
       "isrc                      155\n",
       "genres                    155\n",
       "name                      155\n",
       "artists                   155\n",
       "album                     155\n",
       "release_date              155\n",
       "release_date_precision    155\n",
       "uri                       155\n",
       "spotify_id                155\n",
       "chart_power                 0\n",
       "popularity                155\n",
       "danceability              155\n",
       "energy                    155\n",
       "key                       155\n",
       "loudness                  155\n",
       "mode                      155\n",
       "speechiness               155\n",
       "acousticness              155\n",
       "instrumentalness          155\n",
       "liveness                  155\n",
       "valence                   155\n",
       "tempo                     155\n",
       "duration_ms               155\n",
       "time_signature            155\n",
       "year                      155\n",
       "country_code              155\n",
       "country                   155\n",
       "Listeners                 155\n",
       "Playcount                 155\n",
       "Tags                      155\n",
       "dtype: int64"
      ]
     },
     "execution_count": 23,
     "metadata": {},
     "output_type": "execute_result"
    }
   ],
   "source": [
    "#count the number of rows with N/A in Playcount column\n",
    "df[df['Playcount'] == 'N/A'].count()"
   ]
  },
  {
   "cell_type": "code",
   "execution_count": 24,
   "metadata": {},
   "outputs": [
    {
     "data": {
      "text/plain": [
       "isrc                      155\n",
       "genres                    155\n",
       "name                      155\n",
       "artists                   155\n",
       "album                     155\n",
       "release_date              155\n",
       "release_date_precision    155\n",
       "uri                       155\n",
       "spotify_id                155\n",
       "chart_power                 0\n",
       "popularity                155\n",
       "danceability              155\n",
       "energy                    155\n",
       "key                       155\n",
       "loudness                  155\n",
       "mode                      155\n",
       "speechiness               155\n",
       "acousticness              155\n",
       "instrumentalness          155\n",
       "liveness                  155\n",
       "valence                   155\n",
       "tempo                     155\n",
       "duration_ms               155\n",
       "time_signature            155\n",
       "year                      155\n",
       "country_code              155\n",
       "country                   155\n",
       "Listeners                 155\n",
       "Playcount                 155\n",
       "Tags                      155\n",
       "dtype: int64"
      ]
     },
     "execution_count": 24,
     "metadata": {},
     "output_type": "execute_result"
    }
   ],
   "source": [
    "#count the number of rows with N/A in Tags column\n",
    "df[df['Tags'] == 'N/A'].count()"
   ]
  },
  {
   "cell_type": "code",
   "execution_count": 27,
   "metadata": {},
   "outputs": [
    {
     "data": {
      "text/plain": [
       "isrc                      8\n",
       "genres                    8\n",
       "name                      8\n",
       "artists                   8\n",
       "album                     8\n",
       "release_date              8\n",
       "release_date_precision    8\n",
       "uri                       8\n",
       "spotify_id                8\n",
       "chart_power               0\n",
       "popularity                8\n",
       "danceability              8\n",
       "energy                    8\n",
       "key                       8\n",
       "loudness                  8\n",
       "mode                      8\n",
       "speechiness               8\n",
       "acousticness              8\n",
       "instrumentalness          8\n",
       "liveness                  8\n",
       "valence                   8\n",
       "tempo                     8\n",
       "duration_ms               8\n",
       "time_signature            8\n",
       "year                      8\n",
       "country_code              8\n",
       "country                   8\n",
       "Listeners                 8\n",
       "Playcount                 8\n",
       "Tags                      8\n",
       "dtype: int64"
      ]
     },
     "execution_count": 27,
     "metadata": {},
     "output_type": "execute_result"
    }
   ],
   "source": [
    "#count the number of rows with empty string in Listeners column\n",
    "df[df['Playcount'] == '0'].count()"
   ]
  },
  {
   "cell_type": "code",
   "execution_count": 28,
   "metadata": {},
   "outputs": [
    {
     "data": {
      "text/plain": [
       "count     74664\n",
       "unique    21548\n",
       "top         N/A\n",
       "freq        155\n",
       "Name: Listeners, dtype: object"
      ]
     },
     "execution_count": 28,
     "metadata": {},
     "output_type": "execute_result"
    }
   ],
   "source": [
    "#show the deviation of the values in the Listeners column\n",
    "df['Listeners'].describe()"
   ]
  },
  {
   "cell_type": "code",
   "execution_count": 30,
   "metadata": {},
   "outputs": [],
   "source": [
    "#delete rows with N/A in Listeners column\n",
    "df = df[df['Listeners'] != 'N/A']\n",
    "#delete rows with N/A in Playcount column\n",
    "df = df[df['Playcount'] != 'N/A']\n",
    "#delete rows with N/A in Tags column\n",
    "df = df[df['Tags'] != 'N/A']"
   ]
  },
  {
   "cell_type": "code",
   "execution_count": 32,
   "metadata": {},
   "outputs": [],
   "source": [
    "#make sure the values in the Listeners column are integers\n",
    "df['Listeners'] = df['Listeners'].astype(int)\n",
    "#make sure the values in the Playcount column are integers\n",
    "df['Playcount'] = df['Playcount'].astype(int)"
   ]
  },
  {
   "cell_type": "code",
   "execution_count": 36,
   "metadata": {},
   "outputs": [
    {
     "data": {
      "text/plain": [
       "<Axes: ylabel='Frequency'>"
      ]
     },
     "execution_count": 36,
     "metadata": {},
     "output_type": "execute_result"
    },
    {
     "data": {
      "image/png": "[encoded data removed]",
      "text/plain": [
       "<Figure size 640x480 with 1 Axes>"
      ]
     },
     "metadata": {},
     "output_type": "display_data"
    }
   ],
   "source": [
    "#plot the distribution of the values in the Listeners column as a histogram with log scale\n",
    "df['Listeners'].plot(kind='hist', logy=True)"
   ]
  },
  {
   "cell_type": "code",
   "execution_count": 38,
   "metadata": {},
   "outputs": [
    {
     "data": {
      "text/plain": [
       "(74509, 30)"
      ]
     },
     "execution_count": 38,
     "metadata": {},
     "output_type": "execute_result"
    }
   ],
   "source": [
    "df.shape\n"
   ]
  },
  {
   "cell_type": "code",
   "execution_count": 39,
   "metadata": {},
   "outputs": [
    {
     "data": {
      "text/plain": [
       "(74509, 30)"
      ]
     },
     "execution_count": 39,
     "metadata": {},
     "output_type": "execute_result"
    }
   ],
   "source": [
    "# delete rows with empty string in Listeners column\n",
    "df = df[df['Listeners'] != '']\n",
    "# delete rows with empty string in Playcount column\n",
    "df = df[df['Playcount'] != '']\n",
    "df.shape"
   ]
  },
  {
   "cell_type": "code",
   "execution_count": null,
   "metadata": {},
   "outputs": [],
   "source": [
    "#delete rows with Listeners under 100\n",
    "df = df[df['Listeners'] > 100]\n",
    "df.shape"
   ]
  },
  {
   "cell_type": "code",
   "execution_count": null,
   "metadata": {},
   "outputs": [],
   "source": [
    "#delete rows with Playcount under 1000\n",
    "df = df[df['Playcount'] > 1000]\n",
    "df.shape"
   ]
  }
 ],
 "metadata": {
  "kernelspec": {
   "display_name": "Python 3",
   "language": "python",
   "name": "python3"
  },
  "language_info": {
   "codemirror_mode": {
    "name": "ipython",
    "version": 3
   },
   "file_extension": ".py",
   "mimetype": "text/x-python",
   "name": "python",
   "nbconvert_exporter": "python",
   "pygments_lexer": "ipython3",
   "version": "3.11.3"
  },
  "orig_nbformat": 4
 },
 "nbformat": 4,
 "nbformat_minor": 2
}
