{
 "cells": [
  {
   "cell_type": "code",
   "execution_count": null,
   "metadata": {},
   "outputs": [],
   "source": [
    "import pandas as pd\n",
    "from langdetect import detect\n",
    "\n",
    "\n",
    "data = pd.read_csv('concatenated.csv')\n",
    "\n",
    "\n",
    "def detect_language(text):\n",
    "    try:\n",
    "        return detect(text)\n",
    "    except:\n",
    "        return 'unknown'\n",
    "\n",
    "\n",
    "data['language'] = data['lyrics'].apply(detect_language)\n",
    "\n",
    "\n",
    "data.to_csv('concatenated.csv', index=False)\n",
    "\n"
   ]
  },
  {
   "cell_type": "code",
   "execution_count": null,
   "metadata": {},
   "outputs": [],
   "source": [
    "\n",
    "language_counts = data['language'].value_counts().reset_index()\n",
    "language_counts.columns = ['Language', 'Count']\n",
    "\n",
    "\n",
    "language_counts = language_counts.sort_values(by='Count', ascending=False)\n",
    "\n",
    "\n",
    "language_counts\n"
   ]
  }
 ],
 "metadata": {
  "language_info": {
   "name": "python"
  }
 },
 "nbformat": 4,
 "nbformat_minor": 2
}
