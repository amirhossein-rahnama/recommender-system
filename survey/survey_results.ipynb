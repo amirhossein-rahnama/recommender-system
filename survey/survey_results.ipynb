{
 "cells": [
  {
   "cell_type": "markdown",
   "metadata": {},
   "source": [
    "# Preprocessing"
   ]
  },
  {
   "cell_type": "markdown",
   "metadata": {},
   "source": [
    "All datasets were merged to one single dataframe with only those participants that attended all parts as rows. In the columns you have the questions for all parts."
   ]
  },
  {
   "cell_type": "code",
   "execution_count": 61,
   "metadata": {},
   "outputs": [],
   "source": [
    "import pandas as pd\n"
   ]
  },
  {
   "cell_type": "code",
   "execution_count": 62,
   "metadata": {},
   "outputs": [],
   "source": [
    "survey1_1 = pd.read_csv('part1/survey_1_full.csv', sep=';')\n",
    "survey1_2 = pd.read_csv('part1/survey_2_full.csv', sep=';')\n",
    "survey2 = pd.read_csv('part2/results-survey757215.csv')\n",
    "survey3 = pd.read_csv('part3/results-survey289434.csv')\n",
    "mail_token = pd.read_csv('part3/tokens_289434.csv')"
   ]
  },
  {
   "cell_type": "code",
   "execution_count": 63,
   "metadata": {},
   "outputs": [
    {
     "data": {
      "text/plain": [
       "(35, 2)"
      ]
     },
     "execution_count": 63,
     "metadata": {},
     "output_type": "execute_result"
    }
   ],
   "source": [
    "#drop if completed is N\n",
    "mail_token = mail_token[mail_token['completed'] != 'N']\n",
    "#drop all columns except token and email\n",
    "mail_token = mail_token[['token', 'email']]\n",
    "mail_token.shape"
   ]
  },
  {
   "cell_type": "code",
   "execution_count": 64,
   "metadata": {},
   "outputs": [
    {
     "data": {
      "text/html": [
       "<div>\n",
       "<style scoped>\n",
       "    .dataframe tbody tr th:only-of-type {\n",
       "        vertical-align: middle;\n",
       "    }\n",
       "\n",
       "    .dataframe tbody tr th {\n",
       "        vertical-align: top;\n",
       "    }\n",
       "\n",
       "    .dataframe thead th {\n",
       "        text-align: right;\n",
       "    }\n",
       "</style>\n",
       "<table border=\"1\" class=\"dataframe\">\n",
       "  <thead>\n",
       "    <tr style=\"text-align: right;\">\n",
       "      <th></th>\n",
       "      <th>token</th>\n",
       "      <th>email</th>\n",
       "    </tr>\n",
       "  </thead>\n",
       "  <tbody>\n",
       "    <tr>\n",
       "      <th>0</th>\n",
       "      <td>wavd33hflun7qC1</td>\n",
       "      <td>martin.wild.1997@gmail.com</td>\n",
       "    </tr>\n",
       "    <tr>\n",
       "      <th>1</th>\n",
       "      <td>FX9etYE6Jk8FclU</td>\n",
       "      <td>robert.weber@80s80s.de</td>\n",
       "    </tr>\n",
       "    <tr>\n",
       "      <th>2</th>\n",
       "      <td>6uK9uF09xVMAU0W</td>\n",
       "      <td>tillmann.schwoerer@fh-kiel.de</td>\n",
       "    </tr>\n",
       "    <tr>\n",
       "      <th>3</th>\n",
       "      <td>V0JupQcvAP5BRuF</td>\n",
       "      <td>fabiangeiger87@web.de</td>\n",
       "    </tr>\n",
       "    <tr>\n",
       "      <th>4</th>\n",
       "      <td>cmaxM9RuorwIZr4</td>\n",
       "      <td>friderikeschmidt2002@gmail.com</td>\n",
       "    </tr>\n",
       "    <tr>\n",
       "      <th>5</th>\n",
       "      <td>3hzvSiKrFeDvR7w</td>\n",
       "      <td>d.joseph.weihrauch@gmail.com</td>\n",
       "    </tr>\n",
       "    <tr>\n",
       "      <th>6</th>\n",
       "      <td>y3hNgW6fOiZSmfD</td>\n",
       "      <td>kathypat7@gmail.com</td>\n",
       "    </tr>\n",
       "    <tr>\n",
       "      <th>7</th>\n",
       "      <td>aEPiPKzzaPOOH4H</td>\n",
       "      <td>jane.kelting@googlemail.com</td>\n",
       "    </tr>\n",
       "    <tr>\n",
       "      <th>8</th>\n",
       "      <td>YTmYpmRaKIywPzK</td>\n",
       "      <td>Baibaiaymane@gmail.com</td>\n",
       "    </tr>\n",
       "    <tr>\n",
       "      <th>9</th>\n",
       "      <td>J4ArG6zBHzaZmAG</td>\n",
       "      <td>sven_krueger@hotmail.com</td>\n",
       "    </tr>\n",
       "    <tr>\n",
       "      <th>10</th>\n",
       "      <td>c3VNw73gqXHVNi6</td>\n",
       "      <td>Nymanno10@gmail.com</td>\n",
       "    </tr>\n",
       "    <tr>\n",
       "      <th>11</th>\n",
       "      <td>SgrektaikLJqPHF</td>\n",
       "      <td>martinadahl@outlook.com</td>\n",
       "    </tr>\n",
       "    <tr>\n",
       "      <th>12</th>\n",
       "      <td>fTnlK7T6UQ1WTyE</td>\n",
       "      <td>florian.kaetsch@t-online.de</td>\n",
       "    </tr>\n",
       "    <tr>\n",
       "      <th>13</th>\n",
       "      <td>FgJcnmDFwuNbZ6V</td>\n",
       "      <td>martina.wild.1960@gmail.com</td>\n",
       "    </tr>\n",
       "    <tr>\n",
       "      <th>14</th>\n",
       "      <td>Vylapo3YRcjZulc</td>\n",
       "      <td>aleksei.trikoz@student.fh-kiel.de</td>\n",
       "    </tr>\n",
       "    <tr>\n",
       "      <th>15</th>\n",
       "      <td>BYGNEdqLaqbodCv</td>\n",
       "      <td>umtcanakkoca@gmail.com</td>\n",
       "    </tr>\n",
       "    <tr>\n",
       "      <th>17</th>\n",
       "      <td>o37w6Jq7j11dk4O</td>\n",
       "      <td>aure.voelker@freenet.de</td>\n",
       "    </tr>\n",
       "    <tr>\n",
       "      <th>19</th>\n",
       "      <td>i9yOWdhp3q2lFSI</td>\n",
       "      <td>luis.bartel@gmx.de</td>\n",
       "    </tr>\n",
       "    <tr>\n",
       "      <th>21</th>\n",
       "      <td>oa7eOD7MVKxvvJz</td>\n",
       "      <td>Fabian_heinrich12@t-online.de</td>\n",
       "    </tr>\n",
       "    <tr>\n",
       "      <th>22</th>\n",
       "      <td>In8u5l9R2E3Vwza</td>\n",
       "      <td>m.grothaus@gmx.at</td>\n",
       "    </tr>\n",
       "    <tr>\n",
       "      <th>25</th>\n",
       "      <td>zKWIng6Rig2H6mY</td>\n",
       "      <td>paulahanel@t-online.de</td>\n",
       "    </tr>\n",
       "    <tr>\n",
       "      <th>26</th>\n",
       "      <td>HrOBFufzrAwl9ua</td>\n",
       "      <td>benz-larissa@t-online.de</td>\n",
       "    </tr>\n",
       "    <tr>\n",
       "      <th>27</th>\n",
       "      <td>0OlhVxzh9juSyFf</td>\n",
       "      <td>zi.celina481@icloud.com</td>\n",
       "    </tr>\n",
       "    <tr>\n",
       "      <th>29</th>\n",
       "      <td>Q9DYERDBRNC8pGC</td>\n",
       "      <td>marlene-sto@outlook.de</td>\n",
       "    </tr>\n",
       "    <tr>\n",
       "      <th>30</th>\n",
       "      <td>aAOzTY2vYg9pvCv</td>\n",
       "      <td>nadine_laug@web.de</td>\n",
       "    </tr>\n",
       "    <tr>\n",
       "      <th>31</th>\n",
       "      <td>Ed6eTnraqzCuT6e</td>\n",
       "      <td>lauramariaarnold@web.de</td>\n",
       "    </tr>\n",
       "    <tr>\n",
       "      <th>32</th>\n",
       "      <td>OkIIpFHalUV92X4</td>\n",
       "      <td>Hbones@gmx.de</td>\n",
       "    </tr>\n",
       "    <tr>\n",
       "      <th>33</th>\n",
       "      <td>lvnTjonKsoU3bXY</td>\n",
       "      <td>manuel_heinrich_@t-online.de</td>\n",
       "    </tr>\n",
       "    <tr>\n",
       "      <th>35</th>\n",
       "      <td>uOJqQ6NcoUb7XJC</td>\n",
       "      <td>Tobiask93@aol.com</td>\n",
       "    </tr>\n",
       "    <tr>\n",
       "      <th>36</th>\n",
       "      <td>vZlhdAhOfJUFNBR</td>\n",
       "      <td>michaelwildt@web.de</td>\n",
       "    </tr>\n",
       "    <tr>\n",
       "      <th>37</th>\n",
       "      <td>yq2DVeXAY6GoRhS</td>\n",
       "      <td>pfeuffer.daniela@gmail.com</td>\n",
       "    </tr>\n",
       "    <tr>\n",
       "      <th>38</th>\n",
       "      <td>QNzQsDDU5WzFTKj</td>\n",
       "      <td>simon.doemer66@gmail.com</td>\n",
       "    </tr>\n",
       "    <tr>\n",
       "      <th>39</th>\n",
       "      <td>CXHbUfosYxgaojd</td>\n",
       "      <td>Remo.evers@student.fh-Kiel.de</td>\n",
       "    </tr>\n",
       "    <tr>\n",
       "      <th>42</th>\n",
       "      <td>KJyms4rE5dvOHKz</td>\n",
       "      <td>geraldgrabo@gmx.de</td>\n",
       "    </tr>\n",
       "    <tr>\n",
       "      <th>44</th>\n",
       "      <td>ZhBjtxNZQtXt9rS</td>\n",
       "      <td>thorestj@icloud.com</td>\n",
       "    </tr>\n",
       "  </tbody>\n",
       "</table>\n",
       "</div>"
      ],
      "text/plain": [
       "              token                              email\n",
       "0   wavd33hflun7qC1         martin.wild.1997@gmail.com\n",
       "1   FX9etYE6Jk8FclU             robert.weber@80s80s.de\n",
       "2   6uK9uF09xVMAU0W      tillmann.schwoerer@fh-kiel.de\n",
       "3   V0JupQcvAP5BRuF              fabiangeiger87@web.de\n",
       "4   cmaxM9RuorwIZr4     friderikeschmidt2002@gmail.com\n",
       "5   3hzvSiKrFeDvR7w       d.joseph.weihrauch@gmail.com\n",
       "6   y3hNgW6fOiZSmfD                kathypat7@gmail.com\n",
       "7   aEPiPKzzaPOOH4H        jane.kelting@googlemail.com\n",
       "8   YTmYpmRaKIywPzK             Baibaiaymane@gmail.com\n",
       "9   J4ArG6zBHzaZmAG           sven_krueger@hotmail.com\n",
       "10  c3VNw73gqXHVNi6                Nymanno10@gmail.com\n",
       "11  SgrektaikLJqPHF            martinadahl@outlook.com\n",
       "12  fTnlK7T6UQ1WTyE        florian.kaetsch@t-online.de\n",
       "13  FgJcnmDFwuNbZ6V        martina.wild.1960@gmail.com\n",
       "14  Vylapo3YRcjZulc  aleksei.trikoz@student.fh-kiel.de\n",
       "15  BYGNEdqLaqbodCv             umtcanakkoca@gmail.com\n",
       "17  o37w6Jq7j11dk4O            aure.voelker@freenet.de\n",
       "19  i9yOWdhp3q2lFSI                 luis.bartel@gmx.de\n",
       "21  oa7eOD7MVKxvvJz      Fabian_heinrich12@t-online.de\n",
       "22  In8u5l9R2E3Vwza                  m.grothaus@gmx.at\n",
       "25  zKWIng6Rig2H6mY             paulahanel@t-online.de\n",
       "26  HrOBFufzrAwl9ua           benz-larissa@t-online.de\n",
       "27  0OlhVxzh9juSyFf            zi.celina481@icloud.com\n",
       "29  Q9DYERDBRNC8pGC             marlene-sto@outlook.de\n",
       "30  aAOzTY2vYg9pvCv                 nadine_laug@web.de\n",
       "31  Ed6eTnraqzCuT6e            lauramariaarnold@web.de\n",
       "32  OkIIpFHalUV92X4                      Hbones@gmx.de\n",
       "33  lvnTjonKsoU3bXY       manuel_heinrich_@t-online.de\n",
       "35  uOJqQ6NcoUb7XJC                  Tobiask93@aol.com\n",
       "36  vZlhdAhOfJUFNBR                michaelwildt@web.de\n",
       "37  yq2DVeXAY6GoRhS         pfeuffer.daniela@gmail.com\n",
       "38  QNzQsDDU5WzFTKj           simon.doemer66@gmail.com\n",
       "39  CXHbUfosYxgaojd      Remo.evers@student.fh-Kiel.de\n",
       "42  KJyms4rE5dvOHKz                 geraldgrabo@gmx.de\n",
       "44  ZhBjtxNZQtXt9rS                thorestj@icloud.com"
      ]
     },
     "execution_count": 64,
     "metadata": {},
     "output_type": "execute_result"
    }
   ],
   "source": [
    "mail_token"
   ]
  },
  {
   "cell_type": "code",
   "execution_count": 65,
   "metadata": {},
   "outputs": [],
   "source": [
    "columnnames = [\"id\", \"date_send\", \"last_page\", \"language\", \"random_value\", \"gender\", \"birthdate\", \"country_youth\", \"how_often_80s\", \"used_recommender\", \"openess1\", \"openess2\", \"openess3\", \"text\", \"q1_lyrics\", \"q1_sound\", \"q1_general\", \"q2_lyrics\", \"q2_sound\", \"q2_general\", \"q3_lyrics\", \"q3_sound\", \"q3_general\", \"q4_lyrics\", \"q4_sound\", \"q4_general\", \"q5_lyrics\", \"q5_sound\", \"q5_general\", \"q6_lyrics\", \"q6_sound\", \"q6_general\", \"q7_lyrics\", \"q7_sound\", \"q7_general\", \"q8_lyrics\", \"q8_sound\", \"q8_general\", \"q9_lyrics\", \"q9_sound\", \"q9_general\", \"q10_lyrics\", \"q10_sound\", \"q10_general\", \"q11_lyrics\", \"q11_sound\", \"q11_general\", \"q12_lyrics\", \"q12_sound\", \"q12_general\", \"q13_lyrics\", \"q13_sound\", \"q13_general\", \"q14_lyrics\", \"q14_sound\", \"q14_general\", \"q15_lyrics\", \"q15_sound\", \"q15_general\", \"q16_lyrics\", \"q16_sound\", \"q16_general\", \"q17_lyrics\", \"q17_sound\", \"q17_general\", \"q18_lyrics\", \"q18_sound\", \"q18_general\", \"q19_lyrics\", \"q19_sound\", \"q19_general\", \"q20_lyrics\", \"q20_sound\", \"q20_general\", \"comments\", \"email\", \"time_total\", \"time_demografic\", \"time_base_question\", \"time_recommender\", \"time_end\", \"speeding\", \"pattern\"]\n",
    "survey1_1.columns = columnnames"
   ]
  },
  {
   "cell_type": "code",
   "execution_count": 66,
   "metadata": {},
   "outputs": [],
   "source": [
    "drop_col = [\"id\", \"date_send\", \"last_page\", \"random_value\", \"text\"]\n",
    "survey1_1.drop(drop_col, axis=1, inplace=True)\n",
    "for i in range(1, 21):\n",
    "    survey1_1.drop(f'q{i}_lyrics', axis=1, inplace=True)\n",
    "    survey1_1.drop(f'q{i}_sound', axis=1, inplace=True)\n"
   ]
  },
  {
   "cell_type": "code",
   "execution_count": 67,
   "metadata": {},
   "outputs": [],
   "source": [
    "columnnames2 = columnnames.copy()\n",
    "#delete everything that has lyrics or sound in it\n",
    "for i in range(1,21):\n",
    "    columnnames2.remove('q'+str(i)+'_lyrics')\n",
    "    columnnames2.remove('q'+str(i)+'_sound')\n",
    "\n",
    "survey1_2.columns = columnnames2"
   ]
  },
  {
   "cell_type": "code",
   "execution_count": 68,
   "metadata": {},
   "outputs": [],
   "source": [
    "survey1_2.drop(drop_col, axis=1, inplace=True)"
   ]
  },
  {
   "cell_type": "code",
   "execution_count": 69,
   "metadata": {},
   "outputs": [
    {
     "data": {
      "text/plain": [
       "(76, 38)"
      ]
     },
     "execution_count": 69,
     "metadata": {},
     "output_type": "execute_result"
    }
   ],
   "source": [
    "survey1 = pd.concat([survey1_1, survey1_2], axis=0, ignore_index=True)\n",
    "survey1.shape"
   ]
  },
  {
   "cell_type": "code",
   "execution_count": 70,
   "metadata": {},
   "outputs": [
    {
     "data": {
      "text/plain": [
       "(74, 38)"
      ]
     },
     "execution_count": 70,
     "metadata": {},
     "output_type": "execute_result"
    }
   ],
   "source": [
    "survey1.dropna(subset=['email'], inplace=True)\n",
    "survey1.shape"
   ]
  },
  {
   "cell_type": "code",
   "execution_count": 71,
   "metadata": {},
   "outputs": [],
   "source": [
    "mail_token['email'] = mail_token['email'].str.lower()\n",
    "survey1['email'] = survey1['email'].str.lower()"
   ]
  },
  {
   "cell_type": "code",
   "execution_count": 72,
   "metadata": {},
   "outputs": [
    {
     "data": {
      "text/html": [
       "<div>\n",
       "<style scoped>\n",
       "    .dataframe tbody tr th:only-of-type {\n",
       "        vertical-align: middle;\n",
       "    }\n",
       "\n",
       "    .dataframe tbody tr th {\n",
       "        vertical-align: top;\n",
       "    }\n",
       "\n",
       "    .dataframe thead th {\n",
       "        text-align: right;\n",
       "    }\n",
       "</style>\n",
       "<table border=\"1\" class=\"dataframe\">\n",
       "  <thead>\n",
       "    <tr style=\"text-align: right;\">\n",
       "      <th></th>\n",
       "      <th>language</th>\n",
       "      <th>gender</th>\n",
       "      <th>birthdate</th>\n",
       "      <th>country_youth</th>\n",
       "      <th>how_often_80s</th>\n",
       "      <th>used_recommender</th>\n",
       "      <th>openess1</th>\n",
       "      <th>openess2</th>\n",
       "      <th>openess3</th>\n",
       "      <th>q1_general</th>\n",
       "      <th>...</th>\n",
       "      <th>comments</th>\n",
       "      <th>email</th>\n",
       "      <th>time_total</th>\n",
       "      <th>time_demografic</th>\n",
       "      <th>time_base_question</th>\n",
       "      <th>time_recommender</th>\n",
       "      <th>time_end</th>\n",
       "      <th>speeding</th>\n",
       "      <th>pattern</th>\n",
       "      <th>token</th>\n",
       "    </tr>\n",
       "  </thead>\n",
       "  <tbody>\n",
       "    <tr>\n",
       "      <th>0</th>\n",
       "      <td>de-easy</td>\n",
       "      <td>männlich</td>\n",
       "      <td>10.03.1997 00:00</td>\n",
       "      <td>Deutschland</td>\n",
       "      <td>Selten</td>\n",
       "      <td>Ja</td>\n",
       "      <td>Sehr</td>\n",
       "      <td>Mäßig</td>\n",
       "      <td>Sehr gut</td>\n",
       "      <td>3.0</td>\n",
       "      <td>...</td>\n",
       "      <td>NaN</td>\n",
       "      <td>martin.wild.1997@gmail.com</td>\n",
       "      <td>782.90</td>\n",
       "      <td>23.73</td>\n",
       "      <td>37.91</td>\n",
       "      <td>706.02</td>\n",
       "      <td>15.24</td>\n",
       "      <td>NaN</td>\n",
       "      <td>NaN</td>\n",
       "      <td>wavd33hflun7qC1</td>\n",
       "    </tr>\n",
       "    <tr>\n",
       "      <th>1</th>\n",
       "      <td>de-easy</td>\n",
       "      <td>männlich</td>\n",
       "      <td>30.10.1974 00:00</td>\n",
       "      <td>Deutschland</td>\n",
       "      <td>Täglich</td>\n",
       "      <td>Ja</td>\n",
       "      <td>Sehr</td>\n",
       "      <td>Sehr</td>\n",
       "      <td>Sehr gut</td>\n",
       "      <td>7.0</td>\n",
       "      <td>...</td>\n",
       "      <td>Einige Songs waren nicht anspielbar. Musste ic...</td>\n",
       "      <td>robert.weber@80s80s.de</td>\n",
       "      <td>2131.09</td>\n",
       "      <td>41.1</td>\n",
       "      <td>43.84</td>\n",
       "      <td>2002.21</td>\n",
       "      <td>43.94</td>\n",
       "      <td>NaN</td>\n",
       "      <td>NaN</td>\n",
       "      <td>FX9etYE6Jk8FclU</td>\n",
       "    </tr>\n",
       "    <tr>\n",
       "      <th>2</th>\n",
       "      <td>de-easy</td>\n",
       "      <td>männlich</td>\n",
       "      <td>06.04.1974 00:00</td>\n",
       "      <td>Deutschland</td>\n",
       "      <td>Täglich</td>\n",
       "      <td>Nein</td>\n",
       "      <td>Mäßig</td>\n",
       "      <td>Mäßig</td>\n",
       "      <td>Gut</td>\n",
       "      <td>10.0</td>\n",
       "      <td>...</td>\n",
       "      <td>Ich glaube, die Frage, ob die Liedtexte zusamm...</td>\n",
       "      <td>andre.weinert@gmx.de</td>\n",
       "      <td>761.51</td>\n",
       "      <td>62.78</td>\n",
       "      <td>45.44</td>\n",
       "      <td>547.00</td>\n",
       "      <td>106.29</td>\n",
       "      <td>NaN</td>\n",
       "      <td>1.0</td>\n",
       "      <td>NaN</td>\n",
       "    </tr>\n",
       "    <tr>\n",
       "      <th>3</th>\n",
       "      <td>de-easy</td>\n",
       "      <td>männlich</td>\n",
       "      <td>09.09.1971 00:00</td>\n",
       "      <td>Deutschland</td>\n",
       "      <td>Täglich</td>\n",
       "      <td>Ja</td>\n",
       "      <td>Sehr</td>\n",
       "      <td>Weniger</td>\n",
       "      <td>Gut</td>\n",
       "      <td>8.0</td>\n",
       "      <td>...</td>\n",
       "      <td>NaN</td>\n",
       "      <td>lu.hoffmann@web.de</td>\n",
       "      <td>702.99</td>\n",
       "      <td>65.53</td>\n",
       "      <td>50.66</td>\n",
       "      <td>553.88</td>\n",
       "      <td>32.92</td>\n",
       "      <td>NaN</td>\n",
       "      <td>NaN</td>\n",
       "      <td>NaN</td>\n",
       "    </tr>\n",
       "    <tr>\n",
       "      <th>4</th>\n",
       "      <td>en</td>\n",
       "      <td>weiblich</td>\n",
       "      <td>31.10.1983 00:00</td>\n",
       "      <td>Deutschland</td>\n",
       "      <td>Selten</td>\n",
       "      <td>Ja</td>\n",
       "      <td>Mäßig</td>\n",
       "      <td>Mäßig</td>\n",
       "      <td>Weniger gut</td>\n",
       "      <td>6.0</td>\n",
       "      <td>...</td>\n",
       "      <td>I was not able to seriously compare the lyrics...</td>\n",
       "      <td>tillmann.schwoerer@fh-kiel.de</td>\n",
       "      <td>2447.58</td>\n",
       "      <td>45.72</td>\n",
       "      <td>49.37</td>\n",
       "      <td>2222.32</td>\n",
       "      <td>130.17</td>\n",
       "      <td>NaN</td>\n",
       "      <td>NaN</td>\n",
       "      <td>6uK9uF09xVMAU0W</td>\n",
       "    </tr>\n",
       "    <tr>\n",
       "      <th>...</th>\n",
       "      <td>...</td>\n",
       "      <td>...</td>\n",
       "      <td>...</td>\n",
       "      <td>...</td>\n",
       "      <td>...</td>\n",
       "      <td>...</td>\n",
       "      <td>...</td>\n",
       "      <td>...</td>\n",
       "      <td>...</td>\n",
       "      <td>...</td>\n",
       "      <td>...</td>\n",
       "      <td>...</td>\n",
       "      <td>...</td>\n",
       "      <td>...</td>\n",
       "      <td>...</td>\n",
       "      <td>...</td>\n",
       "      <td>...</td>\n",
       "      <td>...</td>\n",
       "      <td>...</td>\n",
       "      <td>...</td>\n",
       "      <td>...</td>\n",
       "    </tr>\n",
       "    <tr>\n",
       "      <th>71</th>\n",
       "      <td>de-easy</td>\n",
       "      <td>männlich</td>\n",
       "      <td>26.10.1979 00:00</td>\n",
       "      <td>Deutschland</td>\n",
       "      <td>Monatlich</td>\n",
       "      <td>Ja</td>\n",
       "      <td>Sehr</td>\n",
       "      <td>Mäßig</td>\n",
       "      <td>Sehr gut</td>\n",
       "      <td>5.0</td>\n",
       "      <td>...</td>\n",
       "      <td>NaN</td>\n",
       "      <td>geraldgrabo@gmx.de</td>\n",
       "      <td>493.96</td>\n",
       "      <td>30.36</td>\n",
       "      <td>103.41</td>\n",
       "      <td>341.50</td>\n",
       "      <td>18.69</td>\n",
       "      <td>NaN</td>\n",
       "      <td>NaN</td>\n",
       "      <td>KJyms4rE5dvOHKz</td>\n",
       "    </tr>\n",
       "    <tr>\n",
       "      <th>72</th>\n",
       "      <td>de-easy</td>\n",
       "      <td>weiblich</td>\n",
       "      <td>28.10.2000 00:00</td>\n",
       "      <td>Deutschland</td>\n",
       "      <td>Selten</td>\n",
       "      <td>Ja</td>\n",
       "      <td>Mäßig</td>\n",
       "      <td>Mäßig</td>\n",
       "      <td>Gut</td>\n",
       "      <td>8.0</td>\n",
       "      <td>...</td>\n",
       "      <td>NaN</td>\n",
       "      <td>nataliamasielajc@aol.de</td>\n",
       "      <td>540.01</td>\n",
       "      <td>36.24</td>\n",
       "      <td>63.79</td>\n",
       "      <td>406.60</td>\n",
       "      <td>33.38</td>\n",
       "      <td>NaN</td>\n",
       "      <td>NaN</td>\n",
       "      <td>NaN</td>\n",
       "    </tr>\n",
       "    <tr>\n",
       "      <th>73</th>\n",
       "      <td>de-easy</td>\n",
       "      <td>männlich</td>\n",
       "      <td>27.03.1997 00:00</td>\n",
       "      <td>Deutschland</td>\n",
       "      <td>Selten</td>\n",
       "      <td>Ja</td>\n",
       "      <td>Sehr</td>\n",
       "      <td>Mäßig</td>\n",
       "      <td>Sehr gut</td>\n",
       "      <td>4.0</td>\n",
       "      <td>...</td>\n",
       "      <td>NaN</td>\n",
       "      <td>thorestj@icloud.com</td>\n",
       "      <td>596.64</td>\n",
       "      <td>15.34</td>\n",
       "      <td>63.86</td>\n",
       "      <td>498.08</td>\n",
       "      <td>19.36</td>\n",
       "      <td>NaN</td>\n",
       "      <td>NaN</td>\n",
       "      <td>ZhBjtxNZQtXt9rS</td>\n",
       "    </tr>\n",
       "    <tr>\n",
       "      <th>74</th>\n",
       "      <td>NaN</td>\n",
       "      <td>NaN</td>\n",
       "      <td>NaN</td>\n",
       "      <td>NaN</td>\n",
       "      <td>NaN</td>\n",
       "      <td>NaN</td>\n",
       "      <td>NaN</td>\n",
       "      <td>NaN</td>\n",
       "      <td>NaN</td>\n",
       "      <td>NaN</td>\n",
       "      <td>...</td>\n",
       "      <td>NaN</td>\n",
       "      <td>martinadahl@outlook.com</td>\n",
       "      <td>NaN</td>\n",
       "      <td>NaN</td>\n",
       "      <td>NaN</td>\n",
       "      <td>NaN</td>\n",
       "      <td>NaN</td>\n",
       "      <td>NaN</td>\n",
       "      <td>NaN</td>\n",
       "      <td>SgrektaikLJqPHF</td>\n",
       "    </tr>\n",
       "    <tr>\n",
       "      <th>75</th>\n",
       "      <td>NaN</td>\n",
       "      <td>NaN</td>\n",
       "      <td>NaN</td>\n",
       "      <td>NaN</td>\n",
       "      <td>NaN</td>\n",
       "      <td>NaN</td>\n",
       "      <td>NaN</td>\n",
       "      <td>NaN</td>\n",
       "      <td>NaN</td>\n",
       "      <td>NaN</td>\n",
       "      <td>...</td>\n",
       "      <td>NaN</td>\n",
       "      <td>aure.voelker@freenet.de</td>\n",
       "      <td>NaN</td>\n",
       "      <td>NaN</td>\n",
       "      <td>NaN</td>\n",
       "      <td>NaN</td>\n",
       "      <td>NaN</td>\n",
       "      <td>NaN</td>\n",
       "      <td>NaN</td>\n",
       "      <td>o37w6Jq7j11dk4O</td>\n",
       "    </tr>\n",
       "  </tbody>\n",
       "</table>\n",
       "<p>76 rows × 39 columns</p>\n",
       "</div>"
      ],
      "text/plain": [
       "   language    gender         birthdate country_youth how_often_80s  \\\n",
       "0   de-easy  männlich  10.03.1997 00:00   Deutschland        Selten   \n",
       "1   de-easy  männlich  30.10.1974 00:00   Deutschland       Täglich   \n",
       "2   de-easy  männlich  06.04.1974 00:00   Deutschland       Täglich   \n",
       "3   de-easy  männlich  09.09.1971 00:00   Deutschland       Täglich   \n",
       "4        en  weiblich  31.10.1983 00:00   Deutschland        Selten   \n",
       "..      ...       ...               ...           ...           ...   \n",
       "71  de-easy  männlich  26.10.1979 00:00   Deutschland     Monatlich   \n",
       "72  de-easy  weiblich  28.10.2000 00:00   Deutschland        Selten   \n",
       "73  de-easy  männlich  27.03.1997 00:00   Deutschland        Selten   \n",
       "74      NaN       NaN               NaN           NaN           NaN   \n",
       "75      NaN       NaN               NaN           NaN           NaN   \n",
       "\n",
       "   used_recommender openess1 openess2     openess3  q1_general  ...  \\\n",
       "0                Ja     Sehr    Mäßig     Sehr gut         3.0  ...   \n",
       "1                Ja     Sehr     Sehr     Sehr gut         7.0  ...   \n",
       "2              Nein    Mäßig    Mäßig          Gut        10.0  ...   \n",
       "3                Ja     Sehr  Weniger          Gut         8.0  ...   \n",
       "4                Ja    Mäßig    Mäßig  Weniger gut         6.0  ...   \n",
       "..              ...      ...      ...          ...         ...  ...   \n",
       "71               Ja     Sehr    Mäßig     Sehr gut         5.0  ...   \n",
       "72               Ja    Mäßig    Mäßig          Gut         8.0  ...   \n",
       "73               Ja     Sehr    Mäßig     Sehr gut         4.0  ...   \n",
       "74              NaN      NaN      NaN          NaN         NaN  ...   \n",
       "75              NaN      NaN      NaN          NaN         NaN  ...   \n",
       "\n",
       "                                             comments  \\\n",
       "0                                                 NaN   \n",
       "1   Einige Songs waren nicht anspielbar. Musste ic...   \n",
       "2   Ich glaube, die Frage, ob die Liedtexte zusamm...   \n",
       "3                                                 NaN   \n",
       "4   I was not able to seriously compare the lyrics...   \n",
       "..                                                ...   \n",
       "71                                                NaN   \n",
       "72                                                NaN   \n",
       "73                                                NaN   \n",
       "74                                                NaN   \n",
       "75                                                NaN   \n",
       "\n",
       "                            email  time_total  time_demografic  \\\n",
       "0      martin.wild.1997@gmail.com      782.90            23.73   \n",
       "1          robert.weber@80s80s.de     2131.09             41.1   \n",
       "2            andre.weinert@gmx.de      761.51            62.78   \n",
       "3              lu.hoffmann@web.de      702.99            65.53   \n",
       "4   tillmann.schwoerer@fh-kiel.de     2447.58            45.72   \n",
       "..                            ...         ...              ...   \n",
       "71             geraldgrabo@gmx.de      493.96            30.36   \n",
       "72        nataliamasielajc@aol.de      540.01            36.24   \n",
       "73            thorestj@icloud.com      596.64            15.34   \n",
       "74        martinadahl@outlook.com         NaN              NaN   \n",
       "75        aure.voelker@freenet.de         NaN              NaN   \n",
       "\n",
       "    time_base_question  time_recommender  time_end  speeding  pattern  \\\n",
       "0                37.91            706.02     15.24       NaN      NaN   \n",
       "1                43.84           2002.21     43.94       NaN      NaN   \n",
       "2                45.44            547.00    106.29       NaN      1.0   \n",
       "3                50.66            553.88     32.92       NaN      NaN   \n",
       "4                49.37           2222.32    130.17       NaN      NaN   \n",
       "..                 ...               ...       ...       ...      ...   \n",
       "71              103.41            341.50     18.69       NaN      NaN   \n",
       "72               63.79            406.60     33.38       NaN      NaN   \n",
       "73               63.86            498.08     19.36       NaN      NaN   \n",
       "74                 NaN               NaN       NaN       NaN      NaN   \n",
       "75                 NaN               NaN       NaN       NaN      NaN   \n",
       "\n",
       "              token  \n",
       "0   wavd33hflun7qC1  \n",
       "1   FX9etYE6Jk8FclU  \n",
       "2               NaN  \n",
       "3               NaN  \n",
       "4   6uK9uF09xVMAU0W  \n",
       "..              ...  \n",
       "71  KJyms4rE5dvOHKz  \n",
       "72              NaN  \n",
       "73  ZhBjtxNZQtXt9rS  \n",
       "74  SgrektaikLJqPHF  \n",
       "75  o37w6Jq7j11dk4O  \n",
       "\n",
       "[76 rows x 39 columns]"
      ]
     },
     "execution_count": 72,
     "metadata": {},
     "output_type": "execute_result"
    }
   ],
   "source": [
    "df = pd.merge(survey1, mail_token, on='email', how='outer')\n",
    "df"
   ]
  },
  {
   "cell_type": "code",
   "execution_count": 73,
   "metadata": {},
   "outputs": [
    {
     "data": {
      "text/html": [
       "<div>\n",
       "<style scoped>\n",
       "    .dataframe tbody tr th:only-of-type {\n",
       "        vertical-align: middle;\n",
       "    }\n",
       "\n",
       "    .dataframe tbody tr th {\n",
       "        vertical-align: top;\n",
       "    }\n",
       "\n",
       "    .dataframe thead th {\n",
       "        text-align: right;\n",
       "    }\n",
       "</style>\n",
       "<table border=\"1\" class=\"dataframe\">\n",
       "  <thead>\n",
       "    <tr style=\"text-align: right;\">\n",
       "      <th></th>\n",
       "      <th>language</th>\n",
       "      <th>gender</th>\n",
       "      <th>birthdate</th>\n",
       "      <th>country_youth</th>\n",
       "      <th>how_often_80s</th>\n",
       "      <th>used_recommender</th>\n",
       "      <th>openess1</th>\n",
       "      <th>openess2</th>\n",
       "      <th>openess3</th>\n",
       "      <th>q1_general</th>\n",
       "      <th>...</th>\n",
       "      <th>comments</th>\n",
       "      <th>email</th>\n",
       "      <th>time_total</th>\n",
       "      <th>time_demografic</th>\n",
       "      <th>time_base_question</th>\n",
       "      <th>time_recommender</th>\n",
       "      <th>time_end</th>\n",
       "      <th>speeding</th>\n",
       "      <th>pattern</th>\n",
       "      <th>token</th>\n",
       "    </tr>\n",
       "  </thead>\n",
       "  <tbody>\n",
       "    <tr>\n",
       "      <th>17</th>\n",
       "      <td>de-easy</td>\n",
       "      <td>weiblich</td>\n",
       "      <td>11.02.1964 00:00</td>\n",
       "      <td>Deutschland</td>\n",
       "      <td>Täglich</td>\n",
       "      <td>Nein</td>\n",
       "      <td>Sehr</td>\n",
       "      <td>Sehr</td>\n",
       "      <td>Sehr gut</td>\n",
       "      <td>9.0</td>\n",
       "      <td>...</td>\n",
       "      <td>NaN</td>\n",
       "      <td>martinadahl@outlook.com</td>\n",
       "      <td>714.78</td>\n",
       "      <td>43.5</td>\n",
       "      <td>48.68</td>\n",
       "      <td>591.16</td>\n",
       "      <td>31.44</td>\n",
       "      <td>NaN</td>\n",
       "      <td>NaN</td>\n",
       "      <td>NaN</td>\n",
       "    </tr>\n",
       "    <tr>\n",
       "      <th>74</th>\n",
       "      <td>NaN</td>\n",
       "      <td>NaN</td>\n",
       "      <td>NaN</td>\n",
       "      <td>NaN</td>\n",
       "      <td>NaN</td>\n",
       "      <td>NaN</td>\n",
       "      <td>NaN</td>\n",
       "      <td>NaN</td>\n",
       "      <td>NaN</td>\n",
       "      <td>NaN</td>\n",
       "      <td>...</td>\n",
       "      <td>NaN</td>\n",
       "      <td>martinadahl@outlook.com</td>\n",
       "      <td>NaN</td>\n",
       "      <td>NaN</td>\n",
       "      <td>NaN</td>\n",
       "      <td>NaN</td>\n",
       "      <td>NaN</td>\n",
       "      <td>NaN</td>\n",
       "      <td>NaN</td>\n",
       "      <td>SgrektaikLJqPHF</td>\n",
       "    </tr>\n",
       "  </tbody>\n",
       "</table>\n",
       "<p>2 rows × 39 columns</p>\n",
       "</div>"
      ],
      "text/plain": [
       "   language    gender         birthdate country_youth how_often_80s  \\\n",
       "17  de-easy  weiblich  11.02.1964 00:00   Deutschland       Täglich   \n",
       "74      NaN       NaN               NaN           NaN           NaN   \n",
       "\n",
       "   used_recommender openess1 openess2  openess3  q1_general  ...  comments  \\\n",
       "17             Nein     Sehr     Sehr  Sehr gut         9.0  ...       NaN   \n",
       "74              NaN      NaN      NaN       NaN         NaN  ...       NaN   \n",
       "\n",
       "                       email  time_total  time_demografic  time_base_question  \\\n",
       "17  martinadahl@outlook.com       714.78             43.5               48.68   \n",
       "74   martinadahl@outlook.com         NaN              NaN                 NaN   \n",
       "\n",
       "    time_recommender  time_end  speeding  pattern            token  \n",
       "17            591.16     31.44       NaN      NaN              NaN  \n",
       "74               NaN       NaN       NaN      NaN  SgrektaikLJqPHF  \n",
       "\n",
       "[2 rows x 39 columns]"
      ]
     },
     "execution_count": 73,
     "metadata": {},
     "output_type": "execute_result"
    }
   ],
   "source": [
    "df[df[\"email\"].str.contains(\"@outlook.com\")]"
   ]
  },
  {
   "cell_type": "code",
   "execution_count": 74,
   "metadata": {},
   "outputs": [
    {
     "data": {
      "text/html": [
       "<div>\n",
       "<style scoped>\n",
       "    .dataframe tbody tr th:only-of-type {\n",
       "        vertical-align: middle;\n",
       "    }\n",
       "\n",
       "    .dataframe tbody tr th {\n",
       "        vertical-align: top;\n",
       "    }\n",
       "\n",
       "    .dataframe thead th {\n",
       "        text-align: right;\n",
       "    }\n",
       "</style>\n",
       "<table border=\"1\" class=\"dataframe\">\n",
       "  <thead>\n",
       "    <tr style=\"text-align: right;\">\n",
       "      <th></th>\n",
       "      <th>language</th>\n",
       "      <th>gender</th>\n",
       "      <th>birthdate</th>\n",
       "      <th>country_youth</th>\n",
       "      <th>how_often_80s</th>\n",
       "      <th>used_recommender</th>\n",
       "      <th>openess1</th>\n",
       "      <th>openess2</th>\n",
       "      <th>openess3</th>\n",
       "      <th>q1_general</th>\n",
       "      <th>...</th>\n",
       "      <th>comments</th>\n",
       "      <th>email</th>\n",
       "      <th>time_total</th>\n",
       "      <th>time_demografic</th>\n",
       "      <th>time_base_question</th>\n",
       "      <th>time_recommender</th>\n",
       "      <th>time_end</th>\n",
       "      <th>speeding</th>\n",
       "      <th>pattern</th>\n",
       "      <th>token</th>\n",
       "    </tr>\n",
       "  </thead>\n",
       "  <tbody>\n",
       "    <tr>\n",
       "      <th>23</th>\n",
       "      <td>de-easy</td>\n",
       "      <td>männlich</td>\n",
       "      <td>16.11.1996 00:00</td>\n",
       "      <td>Deutschland</td>\n",
       "      <td>Monatlich</td>\n",
       "      <td>Ja</td>\n",
       "      <td>Mäßig</td>\n",
       "      <td>Mäßig</td>\n",
       "      <td>Weniger gut</td>\n",
       "      <td>8.0</td>\n",
       "      <td>...</td>\n",
       "      <td>NaN</td>\n",
       "      <td>aure.voelker@freenet.de</td>\n",
       "      <td>496.83</td>\n",
       "      <td>38.4</td>\n",
       "      <td>82.43</td>\n",
       "      <td>341.49</td>\n",
       "      <td>34.51</td>\n",
       "      <td>NaN</td>\n",
       "      <td>NaN</td>\n",
       "      <td>NaN</td>\n",
       "    </tr>\n",
       "    <tr>\n",
       "      <th>75</th>\n",
       "      <td>NaN</td>\n",
       "      <td>NaN</td>\n",
       "      <td>NaN</td>\n",
       "      <td>NaN</td>\n",
       "      <td>NaN</td>\n",
       "      <td>NaN</td>\n",
       "      <td>NaN</td>\n",
       "      <td>NaN</td>\n",
       "      <td>NaN</td>\n",
       "      <td>NaN</td>\n",
       "      <td>...</td>\n",
       "      <td>NaN</td>\n",
       "      <td>aure.voelker@freenet.de</td>\n",
       "      <td>NaN</td>\n",
       "      <td>NaN</td>\n",
       "      <td>NaN</td>\n",
       "      <td>NaN</td>\n",
       "      <td>NaN</td>\n",
       "      <td>NaN</td>\n",
       "      <td>NaN</td>\n",
       "      <td>o37w6Jq7j11dk4O</td>\n",
       "    </tr>\n",
       "  </tbody>\n",
       "</table>\n",
       "<p>2 rows × 39 columns</p>\n",
       "</div>"
      ],
      "text/plain": [
       "   language    gender         birthdate country_youth how_often_80s  \\\n",
       "23  de-easy  männlich  16.11.1996 00:00   Deutschland     Monatlich   \n",
       "75      NaN       NaN               NaN           NaN           NaN   \n",
       "\n",
       "   used_recommender openess1 openess2     openess3  q1_general  ...  comments  \\\n",
       "23               Ja    Mäßig    Mäßig  Weniger gut         8.0  ...       NaN   \n",
       "75              NaN      NaN      NaN          NaN         NaN  ...       NaN   \n",
       "\n",
       "                       email  time_total  time_demografic  time_base_question  \\\n",
       "23  aure.voelker@freenet.de       496.83             38.4               82.43   \n",
       "75   aure.voelker@freenet.de         NaN              NaN                 NaN   \n",
       "\n",
       "    time_recommender  time_end  speeding  pattern            token  \n",
       "23            341.49     34.51       NaN      NaN              NaN  \n",
       "75               NaN       NaN       NaN      NaN  o37w6Jq7j11dk4O  \n",
       "\n",
       "[2 rows x 39 columns]"
      ]
     },
     "execution_count": 74,
     "metadata": {},
     "output_type": "execute_result"
    }
   ],
   "source": [
    "df[df[\"email\"].str.contains(\"@freenet.de\")]"
   ]
  },
  {
   "cell_type": "code",
   "execution_count": 75,
   "metadata": {},
   "outputs": [],
   "source": [
    "df.at[17, 'token'] = \"SgrektaikLJqPHF\"\n",
    "df.at[23, 'token'] = \"o37w6Jq7j11dk4O\""
   ]
  },
  {
   "cell_type": "code",
   "execution_count": 76,
   "metadata": {},
   "outputs": [
    {
     "data": {
      "text/plain": [
       "(35, 39)"
      ]
     },
     "execution_count": 76,
     "metadata": {},
     "output_type": "execute_result"
    }
   ],
   "source": [
    "df.dropna(subset=['token'], inplace=True)\n",
    "df.dropna(subset=['language'], inplace=True)\n",
    "df.shape"
   ]
  },
  {
   "cell_type": "code",
   "execution_count": 77,
   "metadata": {},
   "outputs": [
    {
     "data": {
      "text/plain": [
       "Index(['language', 'gender', 'birthdate', 'country_youth', 'how_often_80s',\n",
       "       'used_recommender', 'openess1', 'openess2', 'openess3', 'q1_general',\n",
       "       'q2_general', 'q3_general', 'q4_general', 'q5_general', 'q6_general',\n",
       "       'q7_general', 'q8_general', 'q9_general', 'q10_general', 'q11_general',\n",
       "       'q12_general', 'q13_general', 'q14_general', 'q15_general',\n",
       "       'q16_general', 'q17_general', 'q18_general', 'q19_general',\n",
       "       'q20_general', 'comments', 'email', 'time_total', 'time_demografic',\n",
       "       'time_base_question', 'time_recommender', 'time_end', 'speeding',\n",
       "       'pattern', 'token'],\n",
       "      dtype='object')"
      ]
     },
     "execution_count": 77,
     "metadata": {},
     "output_type": "execute_result"
    }
   ],
   "source": [
    "df.columns"
   ]
  },
  {
   "cell_type": "code",
   "execution_count": 78,
   "metadata": {},
   "outputs": [],
   "source": [
    "#drop last 7 columns\n",
    "df.drop(df.columns[-7:-1], axis=1, inplace=True)"
   ]
  },
  {
   "cell_type": "code",
   "execution_count": 79,
   "metadata": {},
   "outputs": [
    {
     "data": {
      "text/plain": [
       "Index(['Antwort ID', 'Datum Abgeschickt', 'Letzte Seite', 'Start-Sprache',\n",
       "       'Zufallsstartwert', 'Access code',\n",
       "       'In diesem Teil bewerten Sie die nächste Version unseres Recommender Modells. Das Vorgehen dabei ist gleich geblieben: Sie bewerten wie gut die Liedpaare zueinander passen. Den erst genannten Song kennen Sie bereits. Der Empfohlene Song ist neu.  Falls keine Lied Vorschau angezeigt wird, warten Sie bitte einen Moment. Es kann zu verlängerten Ladezeiten der Webseite kommen. Auch ein neu Laden der Seite kann Abhilfe schaffen. ',\n",
       "       'Dies ist das Lied worauf die Empfehlung basiert:    Dies ist das empfohlene Lied:    [Wie gut passen die Lieder zueinander?]',\n",
       "       'Dies ist das Lied worauf die Empfehlung basiert:    Dies ist das empfohlene Lied:    [Wie gut passen die Lieder zueinander?].1',\n",
       "       'Dies ist das Lied worauf die Empfehlung basiert:    Dies ist das empfohlene Lied:    [Wie gut passen die Lieder zueinander?].2',\n",
       "       'Dies ist das Lied worauf die Empfehlung basiert:    Dies ist das empfohlene Lied:    [Wie gut passen die Lieder zueinander?].3',\n",
       "       'Dies ist das Lied worauf die Empfehlung basiert:    Dies ist das empfohlene Lied:    [Wie gut passen die Lieder zueinander?].4',\n",
       "       'Dies ist das Lied worauf die Empfehlung basiert:    Dies ist das empfohlene Lied:    [Wie gut passen die Lieder zueinander?].5',\n",
       "       'Dies ist das Lied worauf die Empfehlung basiert:    Dies ist das empfohlene Lied:    [Wie gut passen die Lieder zueinander?].6',\n",
       "       'Dies ist das Lied worauf die Empfehlung basiert:    Dies ist das empfohlene Lied:    [Wie gut passen die Lieder zueinander?].7',\n",
       "       'Dies ist das Lied worauf die Empfehlung basiert:    Dies ist das empfohlene Lied:    [Wie gut passen die Lieder zueinander?].8',\n",
       "       'Dies ist das Lied worauf die Empfehlung basiert:    Dies ist das empfohlene Lied:    [Wie gut passen die Lieder zueinander?].9',\n",
       "       'Dies ist das Lied worauf die Empfehlung basiert:    Dies ist das empfohlene Lied:    [Wie gut passen die Lieder zueinander?].10',\n",
       "       'Dies ist das Lied worauf die Empfehlung basiert:    Dies ist das empfohlene Lied:    [Wie gut passen die Lieder zueinander?].11',\n",
       "       'Dies ist das Lied worauf die Empfehlung basiert:    Dies ist das empfohlene Lied:    [Wie gut passen die Lieder zueinander?].12',\n",
       "       'Dies ist das Lied worauf die Empfehlung basiert:    Dies ist das empfohlene Lied:    [Wie gut passen die Lieder zueinander?].13',\n",
       "       'Dies ist das Lied worauf die Empfehlung basiert:    Dies ist das empfohlene Lied:    [Wie gut passen die Lieder zueinander?].14',\n",
       "       'Dies ist das Lied worauf die Empfehlung basiert:    Dies ist das empfohlene Lied:    [Wie gut passen die Lieder zueinander?].15',\n",
       "       'Dies ist das Lied worauf die Empfehlung basiert:    Dies ist das empfohlene Lied:    [Wie gut passen die Lieder zueinander?].16',\n",
       "       'Dies ist das Lied worauf die Empfehlung basiert:    Dies ist das empfohlene Lied:    [Wie gut passen die Lieder zueinander?].17',\n",
       "       'Dies ist das Lied worauf die Empfehlung basiert:    Dies ist das empfohlene Lied:    [Wie gut passen die Lieder zueinander?].18',\n",
       "       'Haben Sie zusätzliche Kommentare oder Anmerkungen zur Umfrage, die Sie gerne mitteilen möchten?',\n",
       "       'Gesamtzeit', 'Gruppenzeit: Recommender 2', 'Fragenzeit: G03Q00',\n",
       "       'Fragenzeit: G03Q01', 'Fragenzeit: G03Q03', 'Fragenzeit: G03Q04',\n",
       "       'Fragenzeit: G03Q05', 'Fragenzeit: G03Q06', 'Fragenzeit: G03Q07',\n",
       "       'Fragenzeit: G03Q08', 'Fragenzeit: G03Q09', 'Fragenzeit: G03Q10',\n",
       "       'Fragenzeit: G03Q11', 'Fragenzeit: G03Q12', 'Fragenzeit: G03Q13',\n",
       "       'Fragenzeit: G03Q14', 'Fragenzeit: G03Q15', 'Fragenzeit: G03Q16',\n",
       "       'Fragenzeit: G03Q17', 'Fragenzeit: G03Q18', 'Fragenzeit: G03Q19',\n",
       "       'Fragenzeit: G03Q20', 'Gruppenzeit: Ende der Umfrage',\n",
       "       'Fragenzeit: G04Q01'],\n",
       "      dtype='object')"
      ]
     },
     "execution_count": 79,
     "metadata": {},
     "output_type": "execute_result"
    }
   ],
   "source": [
    "survey2.columns"
   ]
  },
  {
   "cell_type": "code",
   "execution_count": 80,
   "metadata": {},
   "outputs": [],
   "source": [
    "#drop first 5 columns\n",
    "survey2.drop(survey2.columns[[0,1,2,3,4,6]], axis=1, inplace=True)"
   ]
  },
  {
   "cell_type": "code",
   "execution_count": 81,
   "metadata": {},
   "outputs": [
    {
     "data": {
      "text/plain": [
       "Index(['Access code',\n",
       "       'Dies ist das Lied worauf die Empfehlung basiert:    Dies ist das empfohlene Lied:    [Wie gut passen die Lieder zueinander?]',\n",
       "       'Dies ist das Lied worauf die Empfehlung basiert:    Dies ist das empfohlene Lied:    [Wie gut passen die Lieder zueinander?].1',\n",
       "       'Dies ist das Lied worauf die Empfehlung basiert:    Dies ist das empfohlene Lied:    [Wie gut passen die Lieder zueinander?].2',\n",
       "       'Dies ist das Lied worauf die Empfehlung basiert:    Dies ist das empfohlene Lied:    [Wie gut passen die Lieder zueinander?].3',\n",
       "       'Dies ist das Lied worauf die Empfehlung basiert:    Dies ist das empfohlene Lied:    [Wie gut passen die Lieder zueinander?].4',\n",
       "       'Dies ist das Lied worauf die Empfehlung basiert:    Dies ist das empfohlene Lied:    [Wie gut passen die Lieder zueinander?].5',\n",
       "       'Dies ist das Lied worauf die Empfehlung basiert:    Dies ist das empfohlene Lied:    [Wie gut passen die Lieder zueinander?].6',\n",
       "       'Dies ist das Lied worauf die Empfehlung basiert:    Dies ist das empfohlene Lied:    [Wie gut passen die Lieder zueinander?].7',\n",
       "       'Dies ist das Lied worauf die Empfehlung basiert:    Dies ist das empfohlene Lied:    [Wie gut passen die Lieder zueinander?].8',\n",
       "       'Dies ist das Lied worauf die Empfehlung basiert:    Dies ist das empfohlene Lied:    [Wie gut passen die Lieder zueinander?].9',\n",
       "       'Dies ist das Lied worauf die Empfehlung basiert:    Dies ist das empfohlene Lied:    [Wie gut passen die Lieder zueinander?].10',\n",
       "       'Dies ist das Lied worauf die Empfehlung basiert:    Dies ist das empfohlene Lied:    [Wie gut passen die Lieder zueinander?].11',\n",
       "       'Dies ist das Lied worauf die Empfehlung basiert:    Dies ist das empfohlene Lied:    [Wie gut passen die Lieder zueinander?].12',\n",
       "       'Dies ist das Lied worauf die Empfehlung basiert:    Dies ist das empfohlene Lied:    [Wie gut passen die Lieder zueinander?].13',\n",
       "       'Dies ist das Lied worauf die Empfehlung basiert:    Dies ist das empfohlene Lied:    [Wie gut passen die Lieder zueinander?].14',\n",
       "       'Dies ist das Lied worauf die Empfehlung basiert:    Dies ist das empfohlene Lied:    [Wie gut passen die Lieder zueinander?].15',\n",
       "       'Dies ist das Lied worauf die Empfehlung basiert:    Dies ist das empfohlene Lied:    [Wie gut passen die Lieder zueinander?].16',\n",
       "       'Dies ist das Lied worauf die Empfehlung basiert:    Dies ist das empfohlene Lied:    [Wie gut passen die Lieder zueinander?].17',\n",
       "       'Dies ist das Lied worauf die Empfehlung basiert:    Dies ist das empfohlene Lied:    [Wie gut passen die Lieder zueinander?].18',\n",
       "       'Haben Sie zusätzliche Kommentare oder Anmerkungen zur Umfrage, die Sie gerne mitteilen möchten?',\n",
       "       'Gesamtzeit', 'Gruppenzeit: Recommender 2', 'Fragenzeit: G03Q00',\n",
       "       'Fragenzeit: G03Q01', 'Fragenzeit: G03Q03', 'Fragenzeit: G03Q04',\n",
       "       'Fragenzeit: G03Q05', 'Fragenzeit: G03Q06', 'Fragenzeit: G03Q07',\n",
       "       'Fragenzeit: G03Q08', 'Fragenzeit: G03Q09', 'Fragenzeit: G03Q10',\n",
       "       'Fragenzeit: G03Q11', 'Fragenzeit: G03Q12', 'Fragenzeit: G03Q13',\n",
       "       'Fragenzeit: G03Q14', 'Fragenzeit: G03Q15', 'Fragenzeit: G03Q16',\n",
       "       'Fragenzeit: G03Q17', 'Fragenzeit: G03Q18', 'Fragenzeit: G03Q19',\n",
       "       'Fragenzeit: G03Q20', 'Gruppenzeit: Ende der Umfrage',\n",
       "       'Fragenzeit: G04Q01'],\n",
       "      dtype='object')"
      ]
     },
     "execution_count": 81,
     "metadata": {},
     "output_type": "execute_result"
    }
   ],
   "source": [
    "survey2.columns"
   ]
  },
  {
   "cell_type": "code",
   "execution_count": 82,
   "metadata": {},
   "outputs": [],
   "source": [
    "#drop last 23 columns\n",
    "survey2.drop(survey2.columns[-23:], axis=1, inplace=True)"
   ]
  },
  {
   "cell_type": "code",
   "execution_count": 83,
   "metadata": {},
   "outputs": [],
   "source": [
    "columnnames3 = [\"token\"]\n",
    "for i in range(1, 21):\n",
    "    if i == 2:\n",
    "        continue\n",
    "    columnnames3.append(f'q{i}_general_2')\n",
    "columnnames3.append(\"commments_2\")\n",
    "columnnames3.append(\"time_total_2\")"
   ]
  },
  {
   "cell_type": "code",
   "execution_count": 84,
   "metadata": {},
   "outputs": [
    {
     "data": {
      "text/plain": [
       "['token',\n",
       " 'q1_general_2',\n",
       " 'q3_general_2',\n",
       " 'q4_general_2',\n",
       " 'q5_general_2',\n",
       " 'q6_general_2',\n",
       " 'q7_general_2',\n",
       " 'q8_general_2',\n",
       " 'q9_general_2',\n",
       " 'q10_general_2',\n",
       " 'q11_general_2',\n",
       " 'q12_general_2',\n",
       " 'q13_general_2',\n",
       " 'q14_general_2',\n",
       " 'q15_general_2',\n",
       " 'q16_general_2',\n",
       " 'q17_general_2',\n",
       " 'q18_general_2',\n",
       " 'q19_general_2',\n",
       " 'q20_general_2',\n",
       " 'commments_2',\n",
       " 'time_total_2']"
      ]
     },
     "execution_count": 84,
     "metadata": {},
     "output_type": "execute_result"
    }
   ],
   "source": [
    "columnnames3"
   ]
  },
  {
   "cell_type": "code",
   "execution_count": 85,
   "metadata": {},
   "outputs": [],
   "source": [
    "survey2.columns = columnnames3"
   ]
  },
  {
   "cell_type": "code",
   "execution_count": 86,
   "metadata": {},
   "outputs": [],
   "source": [
    "df = pd.merge(df, survey2, on='token', how='outer')"
   ]
  },
  {
   "cell_type": "code",
   "execution_count": 87,
   "metadata": {},
   "outputs": [
    {
     "data": {
      "text/plain": [
       "(35, 54)"
      ]
     },
     "execution_count": 87,
     "metadata": {},
     "output_type": "execute_result"
    }
   ],
   "source": [
    "df.dropna(subset=['email'], inplace=True)\n",
    "df.shape"
   ]
  },
  {
   "cell_type": "code",
   "execution_count": 88,
   "metadata": {},
   "outputs": [
    {
     "data": {
      "text/plain": [
       "Index(['Antwort ID', 'Datum Abgeschickt', 'Letzte Seite', 'Start-Sprache',\n",
       "       'Zufallsstartwert', 'Access code',\n",
       "       'In diesem Teil bewerten Sie die finale Version unseres Recommender Modells. Das Vorgehen dabei ist gleich geblieben: Sie bewerten wie gut die Liedpaare zueinander passen. Den erst genannten Song kennen Sie bereits. Der Empfohlene Song ist neu.  Falls keine Lied Vorschau angezeigt wird, warten Sie bitte einen Moment. Es kann zu verlängerten Ladezeiten der Webseite kommen. Auch ein neu Laden der Seite kann Abhilfe schaffen. ',\n",
       "       'Dies ist das Lied worauf die Empfehlung basiert:    Dies ist das empfohlene Lied:    [Wie gut passen die Lieder zueinander?]',\n",
       "       'Dies ist das Lied worauf die Empfehlung basiert:    Dies ist das empfohlene Lied:    [Wie gut passen die Lieder zueinander?].1',\n",
       "       'Dies ist das Lied worauf die Empfehlung basiert:    Dies ist das empfohlene Lied:    [Wie gut passen die Lieder zueinander?].2',\n",
       "       'Dies ist das Lied worauf die Empfehlung basiert:    Dies ist das empfohlene Lied:    [Wie gut passen die Lieder zueinander?].3',\n",
       "       'Dies ist das Lied worauf die Empfehlung basiert:    Dies ist das empfohlene Lied:    [Wie gut passen die Lieder zueinander?].4',\n",
       "       'Dies ist das Lied worauf die Empfehlung basiert:    Dies ist das empfohlene Lied:    [Wie gut passen die Lieder zueinander?].5',\n",
       "       'Dies ist das Lied worauf die Empfehlung basiert:    Dies ist das empfohlene Lied:    [Wie gut passen die Lieder zueinander?].6',\n",
       "       'Dies ist das Lied worauf die Empfehlung basiert:    Dies ist das empfohlene Lied:    [Wie gut passen die Lieder zueinander?].7',\n",
       "       'Dies ist das Lied worauf die Empfehlung basiert:    Dies ist das empfohlene Lied:    [Wie gut passen die Lieder zueinander?].8',\n",
       "       'Dies ist das Lied worauf die Empfehlung basiert:    Dies ist das empfohlene Lied:    [Wie gut passen die Lieder zueinander?].9',\n",
       "       'Dies ist das Lied worauf die Empfehlung basiert:    Dies ist das empfohlene Lied:    [Wie gut passen die Lieder zueinander?].10',\n",
       "       'Dies ist das Lied worauf die Empfehlung basiert:    Dies ist das empfohlene Lied:    [Wie gut passen die Lieder zueinander?].11',\n",
       "       'Dies ist das Lied worauf die Empfehlung basiert:    Dies ist das empfohlene Lied:    [Wie gut passen die Lieder zueinander?].12',\n",
       "       'Dies ist das Lied worauf die Empfehlung basiert:    Dies ist das empfohlene Lied:    [Wie gut passen die Lieder zueinander?].13',\n",
       "       'Dies ist das Lied worauf die Empfehlung basiert:    Dies ist das empfohlene Lied:    [Wie gut passen die Lieder zueinander?].14',\n",
       "       'Dies ist das Lied worauf die Empfehlung basiert:    Dies ist das empfohlene Lied:    [Wie gut passen die Lieder zueinander?].15',\n",
       "       'Dies ist das Lied worauf die Empfehlung basiert:    Dies ist das empfohlene Lied:    [Wie gut passen die Lieder zueinander?].16',\n",
       "       'Dies ist das Lied worauf die Empfehlung basiert:    Dies ist das empfohlene Lied:    [Wie gut passen die Lieder zueinander?].17',\n",
       "       'Dies ist das Lied worauf die Empfehlung basiert:    Dies ist das empfohlene Lied:    [Wie gut passen die Lieder zueinander?].18',\n",
       "       'Haben Sie zusätzliche Kommentare oder Anmerkungen zur Umfrage, die Sie gerne mitteilen möchten?',\n",
       "       'Gesamtzeit', 'Gruppenzeit: Recommender 3', 'Fragenzeit: G03Q00',\n",
       "       'Fragenzeit: G03Q01', 'Fragenzeit: G03Q03', 'Fragenzeit: G03Q04',\n",
       "       'Fragenzeit: G03Q05', 'Fragenzeit: G03Q06', 'Fragenzeit: G03Q07',\n",
       "       'Fragenzeit: G03Q08', 'Fragenzeit: G03Q09', 'Fragenzeit: G03Q10',\n",
       "       'Fragenzeit: G03Q11', 'Fragenzeit: G03Q12', 'Fragenzeit: G03Q13',\n",
       "       'Fragenzeit: G03Q14', 'Fragenzeit: G03Q15', 'Fragenzeit: G03Q16',\n",
       "       'Fragenzeit: G03Q17', 'Fragenzeit: G03Q18', 'Fragenzeit: G03Q19',\n",
       "       'Fragenzeit: G03Q20', 'Gruppenzeit: Ende der Umfrage',\n",
       "       'Fragenzeit: G04Q01'],\n",
       "      dtype='object')"
      ]
     },
     "execution_count": 88,
     "metadata": {},
     "output_type": "execute_result"
    }
   ],
   "source": [
    "survey3.columns "
   ]
  },
  {
   "cell_type": "code",
   "execution_count": 89,
   "metadata": {},
   "outputs": [
    {
     "data": {
      "text/plain": [
       "(35, 22)"
      ]
     },
     "execution_count": 89,
     "metadata": {},
     "output_type": "execute_result"
    }
   ],
   "source": [
    "survey3.drop(survey3.columns[[0,1,2,3,4,6]], axis=1, inplace=True)\n",
    "survey3.drop(survey3.columns[-23:], axis=1, inplace=True)\n",
    "survey3.shape"
   ]
  },
  {
   "cell_type": "code",
   "execution_count": 90,
   "metadata": {},
   "outputs": [],
   "source": [
    "columnnames4 = [\"token\"]\n",
    "for i in range(1, 21):\n",
    "    if i == 2:\n",
    "        continue\n",
    "    columnnames4.append(f'q{i}_general_3')\n",
    "columnnames4.append(\"commments_3\")\n",
    "columnnames4.append(\"time_total_3\")"
   ]
  },
  {
   "cell_type": "code",
   "execution_count": 91,
   "metadata": {},
   "outputs": [],
   "source": [
    "survey3.columns = columnnames4  "
   ]
  },
  {
   "cell_type": "code",
   "execution_count": 92,
   "metadata": {},
   "outputs": [
    {
     "data": {
      "text/plain": [
       "(35, 75)"
      ]
     },
     "execution_count": 92,
     "metadata": {},
     "output_type": "execute_result"
    }
   ],
   "source": [
    "df = pd.merge(df, survey3, on='token', how='outer')\n",
    "df.shape"
   ]
  },
  {
   "cell_type": "code",
   "execution_count": 93,
   "metadata": {},
   "outputs": [
    {
     "data": {
      "text/plain": [
       "Index(['language', 'gender', 'birthdate', 'country_youth', 'how_often_80s',\n",
       "       'used_recommender', 'openess1', 'openess2', 'openess3', 'q1_general',\n",
       "       'q2_general', 'q3_general', 'q4_general', 'q5_general', 'q6_general',\n",
       "       'q7_general', 'q8_general', 'q9_general', 'q10_general', 'q11_general',\n",
       "       'q12_general', 'q13_general', 'q14_general', 'q15_general',\n",
       "       'q16_general', 'q17_general', 'q18_general', 'q19_general',\n",
       "       'q20_general', 'comments', 'email', 'time_total', 'token',\n",
       "       'q1_general_2', 'q3_general_2', 'q4_general_2', 'q5_general_2',\n",
       "       'q6_general_2', 'q7_general_2', 'q8_general_2', 'q9_general_2',\n",
       "       'q10_general_2', 'q11_general_2', 'q12_general_2', 'q13_general_2',\n",
       "       'q14_general_2', 'q15_general_2', 'q16_general_2', 'q17_general_2',\n",
       "       'q18_general_2', 'q19_general_2', 'q20_general_2', 'commments_2',\n",
       "       'time_total_2', 'q1_general_3', 'q3_general_3', 'q4_general_3',\n",
       "       'q5_general_3', 'q6_general_3', 'q7_general_3', 'q8_general_3',\n",
       "       'q9_general_3', 'q10_general_3', 'q11_general_3', 'q12_general_3',\n",
       "       'q13_general_3', 'q14_general_3', 'q15_general_3', 'q16_general_3',\n",
       "       'q17_general_3', 'q18_general_3', 'q19_general_3', 'q20_general_3',\n",
       "       'commments_3', 'time_total_3'],\n",
       "      dtype='object')"
      ]
     },
     "execution_count": 93,
     "metadata": {},
     "output_type": "execute_result"
    }
   ],
   "source": [
    "df.columns"
   ]
  },
  {
   "cell_type": "markdown",
   "metadata": {},
   "source": [
    "# Visualization of results"
   ]
  },
  {
   "cell_type": "code",
   "execution_count": 118,
   "metadata": {},
   "outputs": [
    {
     "name": "stderr",
     "output_type": "stream",
     "text": [
      "C:\\Users\\marti\\AppData\\Local\\Temp\\ipykernel_25512\\1066500998.py:5: FutureWarning: \n",
      "\n",
      "Passing `palette` without assigning `hue` is deprecated and will be removed in v0.14.0. Assign the `x` variable to `hue` and set `legend=False` for the same effect.\n",
      "\n",
      "  ax = sns.countplot(x=\"language\", data=df, palette=\"tab10\")\n"
     ]
    },
    {
     "data": {
      "image/png": "[encoded data removed]",
      "text/plain": [
       "<Figure size 640x480 with 1 Axes>"
      ]
     },
     "metadata": {},
     "output_type": "display_data"
    }
   ],
   "source": [
    "#plot language\n",
    "import matplotlib.pyplot as plt\n",
    "import seaborn as sns\n",
    "sns.set(style=\"darkgrid\")\n",
    "ax = sns.countplot(x=\"language\", data=df, palette=\"tab10\")\n",
    "ax.set(xlabel='Language', ylabel='Count')\n",
    "plt.show()"
   ]
  },
  {
   "cell_type": "markdown",
   "metadata": {},
   "source": [
    "Most of the participants were native German speakers. This is what we expected and will not affect the results negatively, as our recommender is proposed for German radio."
   ]
  },
  {
   "cell_type": "code",
   "execution_count": 120,
   "metadata": {},
   "outputs": [
    {
     "name": "stderr",
     "output_type": "stream",
     "text": [
      "C:\\Users\\marti\\AppData\\Local\\Temp\\ipykernel_25512\\3872337975.py:2: FutureWarning: \n",
      "\n",
      "Passing `palette` without assigning `hue` is deprecated and will be removed in v0.14.0. Assign the `x` variable to `hue` and set `legend=False` for the same effect.\n",
      "\n",
      "  ax = sns.countplot(x=\"gender\", data=df, palette=\"tab10\")\n"
     ]
    },
    {
     "data": {
      "image/png": "[encoded data removed]",
      "text/plain": [
       "<Figure size 640x480 with 1 Axes>"
      ]
     },
     "metadata": {},
     "output_type": "display_data"
    }
   ],
   "source": [
    "#plot gender\n",
    "ax = sns.countplot(x=\"gender\", data=df, palette=\"tab10\")\n",
    "ax.set(xlabel=\"gender\", ylabel=\"Count\")\n",
    "plt.show()"
   ]
  },
  {
   "cell_type": "markdown",
   "metadata": {},
   "source": [
    "Nearly perfect equality between men and women makes for a representative survey"
   ]
  },
  {
   "cell_type": "code",
   "execution_count": 96,
   "metadata": {},
   "outputs": [],
   "source": [
    "from datetime import datetime\n",
    "df['birthdate'] = pd.to_datetime(df['birthdate'], format='%d.%m.%Y %H:%M')\n",
    "current_date = datetime.now()\n",
    "df['age'] = (current_date - df['birthdate']).dt.days / 365.25"
   ]
  },
  {
   "cell_type": "code",
   "execution_count": 97,
   "metadata": {},
   "outputs": [
    {
     "data": {
      "text/plain": [
       "count    35.000000\n",
       "mean     33.057143\n",
       "std      12.290462\n",
       "min      21.000000\n",
       "25%      24.500000\n",
       "50%      27.000000\n",
       "75%      38.500000\n",
       "max      64.000000\n",
       "Name: age, dtype: float64"
      ]
     },
     "execution_count": 97,
     "metadata": {},
     "output_type": "execute_result"
    }
   ],
   "source": [
    "df['age'] = df['age'].round(0)\n",
    "df['age'] = df['age'].astype(int)\n",
    "df['age'].describe()"
   ]
  },
  {
   "cell_type": "code",
   "execution_count": 98,
   "metadata": {},
   "outputs": [
    {
     "data": {
      "image/png": "[encoded data removed]",
      "text/plain": [
       "<Figure size 640x480 with 1 Axes>"
      ]
     },
     "metadata": {},
     "output_type": "display_data"
    }
   ],
   "source": [
    "#plot age\n",
    "ax = sns.histplot(x=\"age\", data=df)\n",
    "ax.set(xlabel=\"age\", ylabel=\"Count\")\n",
    "plt.show()"
   ]
  },
  {
   "cell_type": "markdown",
   "metadata": {},
   "source": [
    "The majority of our participants are in their mid-twenties, as most of the survey participants were recruited through the project partners' social media channels. Therefore they have the same age range. However, all age groups from 21 to 64 were represented."
   ]
  },
  {
   "cell_type": "code",
   "execution_count": 121,
   "metadata": {},
   "outputs": [
    {
     "name": "stderr",
     "output_type": "stream",
     "text": [
      "C:\\Users\\marti\\AppData\\Local\\Temp\\ipykernel_25512\\2162030254.py:2: FutureWarning: \n",
      "\n",
      "Passing `palette` without assigning `hue` is deprecated and will be removed in v0.14.0. Assign the `x` variable to `hue` and set `legend=False` for the same effect.\n",
      "\n",
      "  ax = sns.countplot(x=\"country_youth\", data=df, palette=\"tab10\")\n"
     ]
    },
    {
     "data": {
      "image/png": "[encoded data removed]",
      "text/plain": [
       "<Figure size 640x480 with 1 Axes>"
      ]
     },
     "metadata": {},
     "output_type": "display_data"
    }
   ],
   "source": [
    "#plot country_youth\n",
    "ax = sns.countplot(x=\"country_youth\", data=df, palette=\"tab10\")\n",
    "ax.set(xlabel=\"country spend youth\", ylabel=\"Count\")\n",
    "plt.xticks(rotation=45)\n",
    "plt.show()"
   ]
  },
  {
   "cell_type": "markdown",
   "metadata": {},
   "source": [
    "The majority spend their youth in Germany. "
   ]
  },
  {
   "cell_type": "code",
   "execution_count": 122,
   "metadata": {},
   "outputs": [
    {
     "name": "stderr",
     "output_type": "stream",
     "text": [
      "C:\\Users\\marti\\AppData\\Local\\Temp\\ipykernel_25512\\1910591152.py:2: FutureWarning: \n",
      "\n",
      "Passing `palette` without assigning `hue` is deprecated and will be removed in v0.14.0. Assign the `x` variable to `hue` and set `legend=False` for the same effect.\n",
      "\n",
      "  ax = sns.countplot(x=\"how_often_80s\", data=df, palette=\"tab10\")\n"
     ]
    },
    {
     "data": {
      "image/png": "[encoded data removed]",
      "text/plain": [
       "<Figure size 640x480 with 1 Axes>"
      ]
     },
     "metadata": {},
     "output_type": "display_data"
    }
   ],
   "source": [
    "#plot how_often_80s\n",
    "ax = sns.countplot(x=\"how_often_80s\", data=df, palette=\"tab10\")\n",
    "ax.set(xlabel=\"how often listening to 80s\", ylabel=\"Count\")\n",
    "plt.show()"
   ]
  },
  {
   "cell_type": "markdown",
   "metadata": {},
   "source": [
    "Every participant has listened to 80s music at least once in their life. The majority listen to 80s music at least once a month."
   ]
  },
  {
   "cell_type": "code",
   "execution_count": 123,
   "metadata": {},
   "outputs": [
    {
     "name": "stderr",
     "output_type": "stream",
     "text": [
      "C:\\Users\\marti\\AppData\\Local\\Temp\\ipykernel_25512\\1445583127.py:2: FutureWarning: \n",
      "\n",
      "Passing `palette` without assigning `hue` is deprecated and will be removed in v0.14.0. Assign the `x` variable to `hue` and set `legend=False` for the same effect.\n",
      "\n",
      "  ax = sns.countplot(x=\"used_recommender\", data=df, palette=\"tab10\")\n"
     ]
    },
    {
     "data": {
      "image/png": "[encoded data removed]",
      "text/plain": [
       "<Figure size 640x480 with 1 Axes>"
      ]
     },
     "metadata": {},
     "output_type": "display_data"
    }
   ],
   "source": [
    "# plot used_recommender\n",
    "ax = sns.countplot(x=\"used_recommender\", data=df, palette=\"tab10\")\n",
    "ax.set(xlabel=\"used recommender before\", ylabel=\"Count\")\n",
    "plt.show()"
   ]
  },
  {
   "cell_type": "markdown",
   "metadata": {},
   "source": [
    "Over 85% have used a music recommender. In the age of streaming music, most people are using song recommenders without even knowing it."
   ]
  },
  {
   "cell_type": "code",
   "execution_count": 102,
   "metadata": {},
   "outputs": [
    {
     "data": {
      "text/plain": [
       "array(['Sehr gut', 'Weniger gut', 'Gut'], dtype=object)"
      ]
     },
     "execution_count": 102,
     "metadata": {},
     "output_type": "execute_result"
    }
   ],
   "source": [
    "df['openess3'].unique()"
   ]
  },
  {
   "cell_type": "code",
   "execution_count": 103,
   "metadata": {},
   "outputs": [],
   "source": [
    "op_dict = {\"Sehr\": 4, \"Mäßig\": 3, \"Weniger\": 2, \"Gar nicht\": 1}\n",
    "op3_dict = {\"Sehr gut\": 4, \"Gut\": 3, \"Weniger gut\": 2, \"Gar nicht gut\": 1}"
   ]
  },
  {
   "cell_type": "code",
   "execution_count": 104,
   "metadata": {},
   "outputs": [],
   "source": [
    "df['openess1'] = df['openess1'].map(op_dict)\n",
    "df['openess2'] = df['openess2'].map(op_dict)\n",
    "df['openess3'] = df['openess3'].map(op3_dict)"
   ]
  },
  {
   "cell_type": "code",
   "execution_count": 105,
   "metadata": {},
   "outputs": [
    {
     "data": {
      "text/plain": [
       "count    35.000000\n",
       "mean      3.257143\n",
       "std       0.524471\n",
       "min       2.333333\n",
       "25%       2.833333\n",
       "50%       3.333333\n",
       "75%       3.666667\n",
       "max       4.000000\n",
       "Name: mean_openess, dtype: float64"
      ]
     },
     "execution_count": 105,
     "metadata": {},
     "output_type": "execute_result"
    }
   ],
   "source": [
    "df[\"mean_openess\"] = df[['openess1', 'openess2', 'openess3']].mean(axis=1)\n",
    "df[\"mean_openess\"].describe()"
   ]
  },
  {
   "cell_type": "code",
   "execution_count": 106,
   "metadata": {},
   "outputs": [
    {
     "data": {
      "image/png": "[encoded data removed]",
      "text/plain": [
       "<Figure size 640x480 with 1 Axes>"
      ]
     },
     "metadata": {},
     "output_type": "display_data"
    }
   ],
   "source": [
    "#plot mean_openess\n",
    "ax = sns.histplot(x=\"mean_openess\", data=df)\n",
    "ax.set(xlabel=\"mean openess\", ylabel=\"Count\")\n",
    "#x axis from 1 to 4\n",
    "plt.xlim(1, 4)\n",
    "plt.show()"
   ]
  },
  {
   "cell_type": "markdown",
   "metadata": {},
   "source": [
    "We had no participants that are not opened to new things. We had basically two groups. One that is slightly opened and the other one that is totally opened."
   ]
  },
  {
   "cell_type": "code",
   "execution_count": 107,
   "metadata": {},
   "outputs": [
    {
     "data": {
      "text/plain": [
       "count    35.000000\n",
       "mean      6.072180\n",
       "std       1.358747\n",
       "min       2.578947\n",
       "25%       5.184211\n",
       "50%       6.315789\n",
       "75%       7.000000\n",
       "max       8.368421\n",
       "Name: mean1, dtype: float64"
      ]
     },
     "execution_count": 107,
     "metadata": {},
     "output_type": "execute_result"
    }
   ],
   "source": [
    "#mean general questions survey 1\n",
    "df[\"mean1\"] = df[['q1_general', 'q3_general', 'q4_general', 'q5_general', 'q6_general', 'q7_general', 'q8_general', 'q9_general', 'q10_general', 'q11_general', 'q12_general', 'q13_general', 'q14_general', 'q15_general', 'q16_general', 'q17_general', 'q18_general', 'q19_general', 'q20_general']].mean(axis=1)\n",
    "df[\"mean1\"].describe()"
   ]
  },
  {
   "cell_type": "code",
   "execution_count": 108,
   "metadata": {},
   "outputs": [
    {
     "data": {
      "text/plain": [
       "count    35.000000\n",
       "mean      6.565414\n",
       "std       0.984427\n",
       "min       4.210526\n",
       "25%       6.105263\n",
       "50%       6.473684\n",
       "75%       7.236842\n",
       "max       8.894737\n",
       "Name: mean2, dtype: float64"
      ]
     },
     "execution_count": 108,
     "metadata": {},
     "output_type": "execute_result"
    }
   ],
   "source": [
    "df[\"mean2\"] = df[['q1_general_2', 'q3_general_2', 'q4_general_2', 'q5_general_2', 'q6_general_2', 'q7_general_2', 'q8_general_2', 'q9_general_2', 'q10_general_2', 'q11_general_2', 'q12_general_2', 'q13_general_2', 'q14_general_2', 'q15_general_2', 'q16_general_2', 'q17_general_2', 'q18_general_2', 'q19_general_2', 'q20_general_2']].mean(axis=1)\n",
    "df[\"mean2\"].describe()"
   ]
  },
  {
   "cell_type": "code",
   "execution_count": 109,
   "metadata": {},
   "outputs": [
    {
     "data": {
      "text/plain": [
       "count    35.000000\n",
       "mean      6.992481\n",
       "std       1.466265\n",
       "min       3.368421\n",
       "25%       6.368421\n",
       "50%       7.052632\n",
       "75%       7.842105\n",
       "max       9.789474\n",
       "Name: mean3, dtype: float64"
      ]
     },
     "execution_count": 109,
     "metadata": {},
     "output_type": "execute_result"
    }
   ],
   "source": [
    "df[\"mean3\"] = df[['q1_general_3', 'q3_general_3', 'q4_general_3', 'q5_general_3', 'q6_general_3', 'q7_general_3', 'q8_general_3', 'q9_general_3', 'q10_general_3', 'q11_general_3', 'q12_general_3', 'q13_general_3', 'q14_general_3', 'q15_general_3', 'q16_general_3', 'q17_general_3', 'q18_general_3', 'q19_general_3', 'q20_general_3']].mean(axis=1)\n",
    "df[\"mean3\"].describe()"
   ]
  },
  {
   "cell_type": "code",
   "execution_count": 127,
   "metadata": {},
   "outputs": [
    {
     "name": "stderr",
     "output_type": "stream",
     "text": [
      "C:\\Users\\marti\\AppData\\Local\\Temp\\ipykernel_25512\\4068241595.py:3: FutureWarning: \n",
      "\n",
      "Passing `palette` without assigning `hue` is deprecated and will be removed in v0.14.0. Assign the `x` variable to `hue` and set `legend=False` for the same effect.\n",
      "\n",
      "  ax = sns.barplot(x=x, y=y, palette=\"tab10\")\n"
     ]
    },
    {
     "data": {
      "image/png": "[encoded data removed]",
      "text/plain": [
       "<Figure size 640x480 with 1 Axes>"
      ]
     },
     "metadata": {},
     "output_type": "display_data"
    }
   ],
   "source": [
    "x = [\"survey1\", \"survey2\", \"survey3\"]\n",
    "y = [df[\"mean1\"].mean(), df[\"mean2\"].mean(), df[\"mean3\"].mean()]\n",
    "ax = sns.barplot(x=x, y=y, palette=\"tab10\")\n",
    "ax.set(ylabel=\"mean general questions\")\n",
    "plt.ylim(1, 7)\n",
    "plt.show()"
   ]
  },
  {
   "cell_type": "markdown",
   "metadata": {},
   "source": [
    "the ratings increased from recommender version to recommender version. This suggests that our recommendations also improved with the versions. It doesn't seem like a big increase, but since we already started with a high baseline rating, it can also be considered that we have increased by about 25% on a scale from the baseline (about 6) to the maximum rating (10)."
   ]
  },
  {
   "cell_type": "code",
   "execution_count": 111,
   "metadata": {},
   "outputs": [],
   "source": [
    "survey_songs = pd.read_csv('part1/survey_songs.csv')"
   ]
  },
  {
   "cell_type": "code",
   "execution_count": 112,
   "metadata": {},
   "outputs": [
    {
     "data": {
      "text/plain": [
       "['alt_rock',\n",
       " 'dance',\n",
       " 'disco',\n",
       " 'funk',\n",
       " 'hard_rock',\n",
       " 'metal',\n",
       " 'pop',\n",
       " 'punk',\n",
       " 'singer_songwriter',\n",
       " 'synth_pop']"
      ]
     },
     "execution_count": 112,
     "metadata": {},
     "output_type": "execute_result"
    }
   ],
   "source": [
    "themes = list(survey_songs['theme'].unique())\n",
    "themes.remove('country')\n",
    "themes"
   ]
  },
  {
   "cell_type": "code",
   "execution_count": 113,
   "metadata": {},
   "outputs": [],
   "source": [
    "#mean values for each question\n",
    "mean_values_1 = []\n",
    "mean_values_2 = []\n",
    "mean_values_3 = []\n",
    "for i in range(1, 21):\n",
    "    if i == 2:\n",
    "        continue\n",
    "    mean_values_1.append(df[f'q{i}_general'].mean())\n",
    "    mean_values_2.append(df[f'q{i}_general_2'].mean())\n",
    "    mean_values_3.append(df[f'q{i}_general_3'].mean())"
   ]
  },
  {
   "cell_type": "code",
   "execution_count": 114,
   "metadata": {},
   "outputs": [],
   "source": [
    "mean_theme_1 = [mean_values_1[0]]\n",
    "mean_theme_2 = [mean_values_2[0]]\n",
    "mean_theme_3 = [mean_values_3[0]]\n",
    "for i,x  in enumerate(mean_values_1):\n",
    "    if i == 0:\n",
    "        continue\n",
    "    if i % 2 == 0:\n",
    "        mean_theme_1.append((x+mean_values_1[i-1])/2)\n",
    "for i,x  in enumerate(mean_values_2):\n",
    "    if i == 0:\n",
    "        continue\n",
    "    if i % 2 == 0:\n",
    "        mean_theme_2.append((x+mean_values_2[i-1])/2)\n",
    "for i,x  in enumerate(mean_values_3):\n",
    "    if i == 0:\n",
    "        continue\n",
    "    if i % 2 == 0:\n",
    "        mean_theme_3.append((x+mean_values_3[i-1])/2)\n",
    "\n",
    "    "
   ]
  },
  {
   "cell_type": "code",
   "execution_count": 115,
   "metadata": {},
   "outputs": [
    {
     "data": {
      "text/html": [
       "<div>\n",
       "<style scoped>\n",
       "    .dataframe tbody tr th:only-of-type {\n",
       "        vertical-align: middle;\n",
       "    }\n",
       "\n",
       "    .dataframe tbody tr th {\n",
       "        vertical-align: top;\n",
       "    }\n",
       "\n",
       "    .dataframe thead th {\n",
       "        text-align: right;\n",
       "    }\n",
       "</style>\n",
       "<table border=\"1\" class=\"dataframe\">\n",
       "  <thead>\n",
       "    <tr style=\"text-align: right;\">\n",
       "      <th></th>\n",
       "      <th>theme</th>\n",
       "      <th>survey</th>\n",
       "      <th>mean</th>\n",
       "    </tr>\n",
       "  </thead>\n",
       "  <tbody>\n",
       "    <tr>\n",
       "      <th>0</th>\n",
       "      <td>alt_rock</td>\n",
       "      <td>survey1</td>\n",
       "      <td>6.142857</td>\n",
       "    </tr>\n",
       "    <tr>\n",
       "      <th>1</th>\n",
       "      <td>dance</td>\n",
       "      <td>survey1</td>\n",
       "      <td>6.400000</td>\n",
       "    </tr>\n",
       "    <tr>\n",
       "      <th>2</th>\n",
       "      <td>disco</td>\n",
       "      <td>survey1</td>\n",
       "      <td>6.342857</td>\n",
       "    </tr>\n",
       "    <tr>\n",
       "      <th>3</th>\n",
       "      <td>funk</td>\n",
       "      <td>survey1</td>\n",
       "      <td>5.785714</td>\n",
       "    </tr>\n",
       "    <tr>\n",
       "      <th>4</th>\n",
       "      <td>hard_rock</td>\n",
       "      <td>survey1</td>\n",
       "      <td>6.428571</td>\n",
       "    </tr>\n",
       "    <tr>\n",
       "      <th>5</th>\n",
       "      <td>metal</td>\n",
       "      <td>survey1</td>\n",
       "      <td>6.614286</td>\n",
       "    </tr>\n",
       "    <tr>\n",
       "      <th>6</th>\n",
       "      <td>pop</td>\n",
       "      <td>survey1</td>\n",
       "      <td>5.457143</td>\n",
       "    </tr>\n",
       "    <tr>\n",
       "      <th>7</th>\n",
       "      <td>punk</td>\n",
       "      <td>survey1</td>\n",
       "      <td>4.757143</td>\n",
       "    </tr>\n",
       "    <tr>\n",
       "      <th>8</th>\n",
       "      <td>singer_songwriter</td>\n",
       "      <td>survey1</td>\n",
       "      <td>6.028571</td>\n",
       "    </tr>\n",
       "    <tr>\n",
       "      <th>9</th>\n",
       "      <td>synth_pop</td>\n",
       "      <td>survey1</td>\n",
       "      <td>6.800000</td>\n",
       "    </tr>\n",
       "    <tr>\n",
       "      <th>10</th>\n",
       "      <td>alt_rock</td>\n",
       "      <td>survey2</td>\n",
       "      <td>5.942857</td>\n",
       "    </tr>\n",
       "    <tr>\n",
       "      <th>11</th>\n",
       "      <td>dance</td>\n",
       "      <td>survey2</td>\n",
       "      <td>7.500000</td>\n",
       "    </tr>\n",
       "    <tr>\n",
       "      <th>12</th>\n",
       "      <td>disco</td>\n",
       "      <td>survey2</td>\n",
       "      <td>5.785714</td>\n",
       "    </tr>\n",
       "    <tr>\n",
       "      <th>13</th>\n",
       "      <td>funk</td>\n",
       "      <td>survey2</td>\n",
       "      <td>6.185714</td>\n",
       "    </tr>\n",
       "    <tr>\n",
       "      <th>14</th>\n",
       "      <td>hard_rock</td>\n",
       "      <td>survey2</td>\n",
       "      <td>8.014286</td>\n",
       "    </tr>\n",
       "    <tr>\n",
       "      <th>15</th>\n",
       "      <td>metal</td>\n",
       "      <td>survey2</td>\n",
       "      <td>8.157143</td>\n",
       "    </tr>\n",
       "    <tr>\n",
       "      <th>16</th>\n",
       "      <td>pop</td>\n",
       "      <td>survey2</td>\n",
       "      <td>5.500000</td>\n",
       "    </tr>\n",
       "    <tr>\n",
       "      <th>17</th>\n",
       "      <td>punk</td>\n",
       "      <td>survey2</td>\n",
       "      <td>6.028571</td>\n",
       "    </tr>\n",
       "    <tr>\n",
       "      <th>18</th>\n",
       "      <td>singer_songwriter</td>\n",
       "      <td>survey2</td>\n",
       "      <td>6.685714</td>\n",
       "    </tr>\n",
       "    <tr>\n",
       "      <th>19</th>\n",
       "      <td>synth_pop</td>\n",
       "      <td>survey2</td>\n",
       "      <td>5.542857</td>\n",
       "    </tr>\n",
       "    <tr>\n",
       "      <th>20</th>\n",
       "      <td>alt_rock</td>\n",
       "      <td>survey3</td>\n",
       "      <td>6.485714</td>\n",
       "    </tr>\n",
       "    <tr>\n",
       "      <th>21</th>\n",
       "      <td>dance</td>\n",
       "      <td>survey3</td>\n",
       "      <td>6.842857</td>\n",
       "    </tr>\n",
       "    <tr>\n",
       "      <th>22</th>\n",
       "      <td>disco</td>\n",
       "      <td>survey3</td>\n",
       "      <td>7.357143</td>\n",
       "    </tr>\n",
       "    <tr>\n",
       "      <th>23</th>\n",
       "      <td>funk</td>\n",
       "      <td>survey3</td>\n",
       "      <td>6.571429</td>\n",
       "    </tr>\n",
       "    <tr>\n",
       "      <th>24</th>\n",
       "      <td>hard_rock</td>\n",
       "      <td>survey3</td>\n",
       "      <td>7.342857</td>\n",
       "    </tr>\n",
       "    <tr>\n",
       "      <th>25</th>\n",
       "      <td>metal</td>\n",
       "      <td>survey3</td>\n",
       "      <td>7.242857</td>\n",
       "    </tr>\n",
       "    <tr>\n",
       "      <th>26</th>\n",
       "      <td>pop</td>\n",
       "      <td>survey3</td>\n",
       "      <td>6.371429</td>\n",
       "    </tr>\n",
       "    <tr>\n",
       "      <th>27</th>\n",
       "      <td>punk</td>\n",
       "      <td>survey3</td>\n",
       "      <td>6.828571</td>\n",
       "    </tr>\n",
       "    <tr>\n",
       "      <th>28</th>\n",
       "      <td>singer_songwriter</td>\n",
       "      <td>survey3</td>\n",
       "      <td>7.685714</td>\n",
       "    </tr>\n",
       "    <tr>\n",
       "      <th>29</th>\n",
       "      <td>synth_pop</td>\n",
       "      <td>survey3</td>\n",
       "      <td>6.942857</td>\n",
       "    </tr>\n",
       "  </tbody>\n",
       "</table>\n",
       "</div>"
      ],
      "text/plain": [
       "                theme   survey      mean\n",
       "0            alt_rock  survey1  6.142857\n",
       "1               dance  survey1  6.400000\n",
       "2               disco  survey1  6.342857\n",
       "3                funk  survey1  5.785714\n",
       "4           hard_rock  survey1  6.428571\n",
       "5               metal  survey1  6.614286\n",
       "6                 pop  survey1  5.457143\n",
       "7                punk  survey1  4.757143\n",
       "8   singer_songwriter  survey1  6.028571\n",
       "9           synth_pop  survey1  6.800000\n",
       "10           alt_rock  survey2  5.942857\n",
       "11              dance  survey2  7.500000\n",
       "12              disco  survey2  5.785714\n",
       "13               funk  survey2  6.185714\n",
       "14          hard_rock  survey2  8.014286\n",
       "15              metal  survey2  8.157143\n",
       "16                pop  survey2  5.500000\n",
       "17               punk  survey2  6.028571\n",
       "18  singer_songwriter  survey2  6.685714\n",
       "19          synth_pop  survey2  5.542857\n",
       "20           alt_rock  survey3  6.485714\n",
       "21              dance  survey3  6.842857\n",
       "22              disco  survey3  7.357143\n",
       "23               funk  survey3  6.571429\n",
       "24          hard_rock  survey3  7.342857\n",
       "25              metal  survey3  7.242857\n",
       "26                pop  survey3  6.371429\n",
       "27               punk  survey3  6.828571\n",
       "28  singer_songwriter  survey3  7.685714\n",
       "29          synth_pop  survey3  6.942857"
      ]
     },
     "execution_count": 115,
     "metadata": {},
     "output_type": "execute_result"
    }
   ],
   "source": [
    "theme_df = pd.DataFrame({'theme': themes, 'survey1': mean_theme_1, 'survey2': mean_theme_2, 'survey3': mean_theme_3})\n",
    "#pivot surveys\n",
    "theme_df = theme_df.melt('theme', var_name='survey',  value_name='mean')\n",
    "theme_df"
   ]
  },
  {
   "cell_type": "code",
   "execution_count": 116,
   "metadata": {},
   "outputs": [
    {
     "data": {
      "image/png": "[encoded data removed]",
      "text/plain": [
       "<Figure size 1000x600 with 1 Axes>"
      ]
     },
     "metadata": {},
     "output_type": "display_data"
    }
   ],
   "source": [
    "\n",
    "#plot mean values for each theme\n",
    "plt.figure(figsize=(10,6))\n",
    "ax = sns.barplot(x=\"theme\", y=\"mean\", hue=\"survey\", data=theme_df)\n",
    "ax.set(ylabel=\"mean general questions\")\n",
    "#y axis from 1 to 9\n",
    "plt.ylim(1, 8.2)\n",
    "plt.xticks(rotation=45)\n",
    "plt.show()"
   ]
  },
  {
   "cell_type": "markdown",
   "metadata": {},
   "source": [
    "This graph shows the development of the recommender versions in relation to the song themes (genre groups). the best result of the final recommender was achieved with sing songwriters. From this we can conclude that the features we have gained from the lyrics have a major influence. In the area of rock and metal, a loss is visible compared to the second version. this could be partly due to the fact that the second version recommended more popular songs that generally receive a better rating. The same song was always recommended for the Country theme, which is why it was not included in the evaluation. in addition, the significance of the theme ratings should be viewed with caution as only two songs per theme were represented"
   ]
  },
  {
   "cell_type": "code",
   "execution_count": 125,
   "metadata": {},
   "outputs": [
    {
     "name": "stderr",
     "output_type": "stream",
     "text": [
      "C:\\Users\\marti\\AppData\\Local\\Temp\\ipykernel_25512\\679577410.py:3: FutureWarning: \n",
      "\n",
      "Passing `palette` without assigning `hue` is deprecated and will be removed in v0.14.0. Assign the `x` variable to `hue` and set `legend=False` for the same effect.\n",
      "\n",
      "  ax = sns.barplot(x=x, y=y, palette=\"tab10\")\n"
     ]
    },
    {
     "data": {
      "image/png": "[encoded data removed]",
      "text/plain": [
       "<Figure size 640x480 with 1 Axes>"
      ]
     },
     "metadata": {},
     "output_type": "display_data"
    }
   ],
   "source": [
    "y = [76, 45, 35]\n",
    "x = [\"survey1\", \"survey2\", \"survey3\"]\n",
    "ax = sns.barplot(x=x, y=y, palette=\"tab10\")\n",
    "ax.set(ylabel=\"number of participants\")\n",
    "#show numbers on bars\n",
    "for p in ax.patches:\n",
    "    ax.annotate(format(p.get_height(), '.0f'), \n",
    "                   (p.get_x() + p.get_width() / 2., p.get_height()), \n",
    "                   ha = 'center', va = 'center', \n",
    "                   xytext = (0, 9), \n",
    "                   textcoords = 'offset points')\n",
    "plt.show()"
   ]
  },
  {
   "cell_type": "markdown",
   "metadata": {},
   "source": [
    "Here you can see again how many participants we had in each survey. Only the people who completed the respective part and left their email address in the first part were taken into account. The total number of participants in the first part was 133 people. However, the majority cancelled in the meantime. \n",
    "For this reason, we also cancelled part 1 of the survey during the survey period. According to the feedback, participation simply took too long and it was also difficult to evaluate the recommendations in relation to the song lyrics as the audible preview sometimes contained no vocals at all. So from now on only the recommendation as a whole was rated and no longer separated into lyrics, sound and general."
   ]
  },
  {
   "cell_type": "markdown",
   "metadata": {},
   "source": [
    "In general, a closer look at the survey results would be helpful to further improve the recommender. However, this was not possible due to a lack of time."
   ]
  },
  {
   "cell_type": "markdown",
   "metadata": {},
   "source": []
  }
 ],
 "metadata": {
  "kernelspec": {
   "display_name": "Python 3",
   "language": "python",
   "name": "python3"
  },
  "language_info": {
   "codemirror_mode": {
    "name": "ipython",
    "version": 3
   },
   "file_extension": ".py",
   "mimetype": "text/x-python",
   "name": "python",
   "nbconvert_exporter": "python",
   "pygments_lexer": "ipython3",
   "version": "3.11.6"
  }
 },
 "nbformat": 4,
 "nbformat_minor": 2
}
